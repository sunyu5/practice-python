{
 "cells": [
  {
   "cell_type": "markdown",
   "metadata": {},
   "source": [
    "## String"
   ]
  },
  {
   "cell_type": "code",
   "execution_count": 3,
   "metadata": {},
   "outputs": [
    {
     "data": {
      "text/plain": [
       "True"
      ]
     },
     "execution_count": 3,
     "metadata": {},
     "output_type": "execute_result"
    }
   ],
   "source": [
    "def is_palindromic(s):\n",
    "    return all(s[i] == s[~i] for i in range(len(s)//2))\n",
    "s = '1221'\n",
    "is_palindromic(s)"
   ]
  },
  {
   "cell_type": "code",
   "execution_count": 13,
   "metadata": {
    "collapsed": true
   },
   "outputs": [
    {
     "name": "stdout",
     "output_type": "stream",
     "text": [
      "e\n",
      "15\n",
      "GreeksforGreekshello,world\n",
      "ee\n",
      "True\n",
      "True\n",
      "False\n",
      "['Euclid', 'Axiom 5', 'Parallel Lines']\n",
      "010101\n",
      "Gauss,Prince of Mathemeticians,1777-1855\n",
      "greeksforgreeks\n",
      "NameArchimedes,Rank3\n"
     ]
    }
   ],
   "source": [
    "s = 'GreeksforGreeks'\n",
    "print(s[3])\n",
    "print(len(s))\n",
    "t = 'hello,world'\n",
    "print(s + t)\n",
    "print(s[2:4])\n",
    "print(s.startswith('Greeks'))\n",
    "print(s.endswith('Greeks'))\n",
    "print(s.startswith('for'))\n",
    "print('Euclid,Axiom 5,Parallel Lines'.split(','))\n",
    "print(3*'01')\n",
    "print(','.join(('Gauss','Prince of Mathemeticians',\n",
    "               '1777-1855')))\n",
    "print(s.lower())\n",
    "print('Name{name},Rank{rank}'.format(name = 'Archimedes',rank = 3))"
   ]
  },
  {
   "cell_type": "code",
   "execution_count": 4,
   "metadata": {},
   "outputs": [
    {
     "name": "stdout",
     "output_type": "stream",
     "text": [
      "['4']\n",
      "['4', '3']\n",
      "['4', '3', '2']\n",
      "['4', '3', '2', '1']\n"
     ]
    },
    {
     "data": {
      "text/plain": [
       "'-1234'"
      ]
     },
     "execution_count": 4,
     "metadata": {},
     "output_type": "execute_result"
    }
   ],
   "source": [
    "# interconvert strings and integers\n",
    "import functools\n",
    "import string\n",
    "def int_to_string(x):\n",
    "    is_negative = False\n",
    "    if x < 0:\n",
    "        x, is_negative = -x, True\n",
    "    s = []\n",
    "    while True:\n",
    "        s.append(chr(ord('0') + x%10)) # chr():  For example, chr(97) returns the string 'a'. ord('a') returns the integer 97 \n",
    "        #print(s)\n",
    "        x//=10\n",
    "        if x == 0:\n",
    "            break\n",
    "    return ('-' if is_negative else '') + ''.join(reversed(s))\n",
    "\n",
    "def string_to_int(s):\n",
    "    return functools.reduce(\n",
    "        lambda running_sum, c: running_sum* 10 + string.digits.index(c),\n",
    "        s[s[0] == '-':], 0) * (-1 if s[0] == '-' else 1)\n",
    "\n",
    "string_to_int('-1234')\n",
    "\n",
    "# def string_to_int(s):\n",
    "\n",
    "#     return functools.reduce(\n",
    "#         lambda running_sum, c: running_sum * 10 + string.digits.index(c),\n",
    "#         s[s[0] == '-':], 0) * (-1 if s[0] == '-' else 1)\n",
    "\n",
    "# string_to_int('-1234')\n",
    "int_to_string(-1234)"
   ]
  },
  {
   "cell_type": "code",
   "execution_count": 31,
   "metadata": {},
   "outputs": [
    {
     "name": "stdout",
     "output_type": "stream",
     "text": [
      "False\n",
      "302\n",
      "18 E\n",
      "1 2\n",
      "0 1\n",
      "0 0\n"
     ]
    },
    {
     "data": {
      "text/plain": [
       "'12E'"
      ]
     },
     "execution_count": 31,
     "metadata": {},
     "output_type": "execute_result"
    }
   ],
   "source": [
    "# base conversion\n",
    "import string\n",
    "import functools\n",
    "def convert_base(num_as_string,b1,b2):\n",
    "    def construct_from_base(num_as_int,base):\n",
    "        print(num_as_int//base,string.hexdigits[num_as_int%base].upper() )\n",
    "        return ('' if num_as_int == 0 else \n",
    "               construct_from_base(num_as_int//base,base)+\n",
    "               string.hexdigits[num_as_int%base].upper())\n",
    "    is_negative= num_as_string[0] == '-'\n",
    "    print(is_negative)\n",
    "    num_as_int = functools.reduce(\n",
    "        lambda x,c: x*b1 + string.hexdigits.index(c.lower()),\n",
    "    num_as_string[is_negative:],0)\n",
    "    print(num_as_int)\n",
    "    #print(num_as_string[is_negative:])\n",
    "    return ('-'if is_negative else '') + ('0' if num_as_int == 0 else\n",
    "                                         construct_from_base(num_as_int,b2))\n",
    "convert_base('1A3',13,16)"
   ]
  },
  {
   "cell_type": "code",
   "execution_count": 36,
   "metadata": {},
   "outputs": [
    {
     "data": {
      "text/plain": [
       "'1B3'"
      ]
     },
     "execution_count": 36,
     "metadata": {},
     "output_type": "execute_result"
    }
   ],
   "source": [
    "import string\n",
    "import functools\n",
    "def base_conversion(strings,b1,b2):\n",
    "    def conversion_from(string_to_int,base):\n",
    "        return ('' if string_to_int == 0 else conversion_from(string_to_int//base,base) + \n",
    "                string.hexdigits[string_to_int%base].upper())\n",
    "    is_negative = strings[0] == '-'\n",
    "    string_to_int =  functools.reduce(\n",
    "        lambda running_sum,c: running_sum*b1 + string.hexdigits.index(c.lower()),\n",
    "        strings[is_negative:],0)\n",
    "    return ('-' if is_negative else '') + ('0' if string_to_int == 0 else conversion_from(string_to_int,b2))\n",
    "base_conversion('1E2',13,14)"
   ]
  }
 ],
 "metadata": {
  "kernelspec": {
   "display_name": "Python 3",
   "language": "python",
   "name": "python3"
  },
  "language_info": {
   "codemirror_mode": {
    "name": "ipython",
    "version": 3
   },
   "file_extension": ".py",
   "mimetype": "text/x-python",
   "name": "python",
   "nbconvert_exporter": "python",
   "pygments_lexer": "ipython3",
   "version": "3.6.5"
  }
 },
 "nbformat": 4,
 "nbformat_minor": 2
}
