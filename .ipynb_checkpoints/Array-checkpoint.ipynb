{
 "cells": [
  {
   "cell_type": "markdown",
   "metadata": {},
   "source": [
    "## Array "
   ]
  },
  {
   "cell_type": "code",
   "execution_count": 6,
   "metadata": {},
   "outputs": [
    {
     "name": "stdout",
     "output_type": "stream",
     "text": [
      "[8, 2, 6, 4, 5, 7, 9, 3, 1]\n"
     ]
    }
   ],
   "source": [
    "# your input is an array of integers, and you have to reorder its entries so that the even entries array first.\n",
    "def even_odd(A):\n",
    "    next_even, next_odd = 0, len(A)-1\n",
    "    while next_even < next_odd:\n",
    "        if A[next_even] %2 == 0:\n",
    "            next_even += 1\n",
    "        else:\n",
    "            A[next_even], A[next_odd] = A[next_odd], A[next_even]\n",
    "            next_odd -= 1\n",
    "A = [1,2,3,4,5,6,7,9,8]\n",
    "even_odd(A)\n",
    "print(A)"
   ]
  },
  {
   "cell_type": "code",
   "execution_count": 15,
   "metadata": {},
   "outputs": [
    {
     "data": {
      "text/plain": [
       "[2, 3, 6, 5, 4, 7, 8, 9, 10, 11]"
      ]
     },
     "execution_count": 15,
     "metadata": {},
     "output_type": "execute_result"
    }
   ],
   "source": [
    " def odd_even_sieve(x):\n",
    "    output = x[:]\n",
    "    even_index, odd_index = 0, 1\n",
    "    for value in x:\n",
    "        if value % 2 == 0:\n",
    "             output[even_index] = value\n",
    "             even_index += 2\n",
    "        else:\n",
    "            output[odd_index] = value\n",
    "            odd_index += 2\n",
    "    return output\n",
    "\n",
    "odd_even_sieve([3, 2, 5, 6, 4, 7, 8, 9, 10, 11])\n"
   ]
  },
  {
   "cell_type": "code",
   "execution_count": 29,
   "metadata": {},
   "outputs": [
    {
     "name": "stdout",
     "output_type": "stream",
     "text": [
      "0\n"
     ]
    }
   ],
   "source": [
    "# array basic operating\n",
    "a = [1] + [0]*10\n",
    "len(a)\n",
    "a.append(42)\n",
    "a.remove(0)\n",
    "a.insert(3,28)\n",
    "a\n",
    "# 2D array\n",
    "A = [[1,2,4],[3,5,7,9],[13]]\n",
    "if 3 in A: print(1)\n",
    "else:print(0)\n",
    "    "
   ]
  },
  {
   "cell_type": "code",
   "execution_count": 45,
   "metadata": {},
   "outputs": [
    {
     "name": "stdout",
     "output_type": "stream",
     "text": [
      "xs:[[1, 2, 3], [4, 5, 6], [7, 8, 9], ['new sublist']]\n",
      "ys:[[1, 2, 3], [4, 5, 6], [7, 8, 9]]\n",
      "--------------------------------------------------\n",
      "xs:[[1, 2, 3], ['X', 5, 6], [7, 8, 9], ['new sublist']]\n",
      "ys:[[1, 2, 3], ['X', 5, 6], [7, 8, 9]]\n",
      "--------------------------------------------------\n",
      "xs:[[1, 2, 3], ['X', 5, 6], [7, 8, 9]]\n",
      "zs:[[1, 2, 3], [4, 5, 6], [7, 8, 9]]\n",
      "--------------------------------------------------\n"
     ]
    }
   ],
   "source": [
    "# the difference between shallow copy and deep copy\n",
    "xs = [[1,2,3],[4,5,6],[7,8,9]]\n",
    "ys = list(xs)\n",
    "xs.append(['new sublist'])\n",
    "print('xs:{}'.format(xs))\n",
    "\n",
    "print('ys:{}'.format(ys))\n",
    "print('-'*50)\n",
    "xs[1][0] = 'X' \n",
    "print('xs:{}'.format(xs))\n",
    "\n",
    "print('ys:{}'.format(ys))\n",
    "print('-'*50)\n",
    "# making deep copy\n",
    "import copy\n",
    "xs = [[1,2,3],[4,5,6],[7,8,9]]\n",
    "zs = copy.deepcopy(xs)\n",
    "xs[1][0] = 'X'\n",
    "print('xs:{}'.format(xs))\n",
    "\n",
    "print('zs:{}'.format(zs))\n",
    "print('-'*50)\n",
    "\n",
    "\n",
    "#Making a shallow copy of an object won’t clone child objects. Therefore, the copy is not fully independent of the original.\n",
    "#A deep copy of an object will recursively clone child objects. The clone is fully independent of the original, but creating a deep copy is slower."
   ]
  },
  {
   "cell_type": "code",
   "execution_count": 35,
   "metadata": {},
   "outputs": [
    {
     "data": {
      "text/plain": [
       "0"
      ]
     },
     "execution_count": 35,
     "metadata": {},
     "output_type": "execute_result"
    }
   ],
   "source": [
    "# key method \n",
    "s= [1,2,3,4,5,6]\n",
    "from bisect import bisect\n",
    "grades = \"FEDCBA\"\n",
    "breakpoints = [30, 44, 66, 75, 85]\n",
    "import bisect\n",
    "def grade(total):\n",
    "           return grades[bisect.bisect(breakpoints, total)]\n",
    "\n",
    "grade(66)\n",
    "#'C'\n",
    "list(map(grade, [33, 99, 77, 44, 12, 88]))\n",
    "#['E', 'A', 'B', 'D', 'F', 'A']\n",
    "\n",
    "a =[1,2,3,4]\n",
    "#bisect.bisect(a,3)\n",
    "bisect.bisect_left(a,1)\n",
    "# a.reverse()\n",
    "# b = list(reversed(a))\n",
    "#a\n",
    "\n",
    "# A = [1,6,3,4,5,2,7]\n",
    "# A[:2]\n",
    "# A[1:5:2]"
   ]
  },
  {
   "cell_type": "code",
   "execution_count": 105,
   "metadata": {},
   "outputs": [
    {
     "data": {
      "text/plain": [
       "[[1, 4, 9], [16, 25, 36]]"
      ]
     },
     "execution_count": 105,
     "metadata": {},
     "output_type": "execute_result"
    }
   ],
   "source": [
    "# list comprehensive 列表生成器\n",
    "[A[i]**2 for i in range(len(A)) if A[i] %2 == 0]\n",
    "# Map\n",
    "test = list(map(lambda x : x**2,A))\n",
    "test\n",
    "Aa = [1,3,5]\n",
    "B = ['a','b']\n",
    "[(x,y) for x in Aa for y in B]\n",
    "\n",
    "# convert 2D list to 1D\n",
    "from functools import reduce\n",
    "M =[['a','b','c'],['d','e','f']]\n",
    "reduce(lambda x,y : x+y,M)\n",
    "# two levels of looping also allow for iterating over each entry in a 2D list\n",
    "As= [[1,2,3],[4,5,6]]\n",
    "[[int(x**2) for x in row] for row in As]\n"
   ]
  },
  {
   "cell_type": "code",
   "execution_count": 31,
   "metadata": {},
   "outputs": [
    {
     "data": {
      "text/plain": [
       "[0, 0, 1, 1, 2, 2]"
      ]
     },
     "execution_count": 31,
     "metadata": {},
     "output_type": "execute_result"
    }
   ],
   "source": [
    "#5.1 the DUTCH NATIONAL FLAG problem\n",
    "\n",
    "# def quicksort(x):\n",
    "#     if len(x) == 1 or len(x) == 0:\n",
    "#         return x\n",
    "#     else:\n",
    "#         pivot = x[0]\n",
    "#         i = 0\n",
    "#         for j in range(len(x)-1):\n",
    "#             if x[j+1] < pivot:\n",
    "#                 #print(j,i)\n",
    "#                 #print(x[j+1],x[i+1])\n",
    "#                 x[j+1],x[i+1] = x[i+1], x[j+1]\n",
    "#                 i += 1\n",
    "#         x[0],x[i] = x[i],x[0]\n",
    "#         print(x[0],x[i])\n",
    "#         first_part = quicksort(x[:i])\n",
    "#         print(first)\n",
    "#         second_part = quicksort(x[i+1:])\n",
    "#         first_part.append(x[i])\n",
    "#        # print(first_part)\n",
    "#         return first_part + second_part\n",
    "\n",
    "# alist = [54,26,93,17,77,31,44,55,20]\n",
    "#print(quicksort(alist))\n",
    "\n",
    "\n",
    "def quick_sort(A,p,r):\n",
    "    if p<r:\n",
    "        q = partition(A,p,r)\n",
    "        quick_sort(A,p,q-1)\n",
    "        quick_sort(A,q+1,r)\n",
    "def partition(A,p,r):\n",
    "    x = A[r]\n",
    "    i = p-1\n",
    "   \n",
    "    for j in range(p,r-1):\n",
    "        if A[j] <= x:\n",
    "            i +=1 \n",
    "            A[j],A[i] = A[i],A[j]\n",
    "    A[i+1],A[r] = A[r],A[i+1]\n",
    "    return i+1\n",
    "A = [2,3,1,5,6,9,8]\n",
    "quick_sort(A,0,6)\n",
    "#A  \n",
    "\n",
    "\n",
    "def dutch_flag_partition(pivot_index, A):\n",
    "    pivot = A[pivot_index]\n",
    "    # Keep the following invariants during partitioning:\n",
    "    # bottom group: A[:smaller].\n",
    "    # middle group: A[smaller:equal].\n",
    "    # unclassified group: A[equal:larger].\n",
    "    # top group: A[larger:].\n",
    "    smaller, equal, larger = 0, 0, len(A)\n",
    "    # Keep iterating as long as there is an unclassified element.\n",
    "    while equal < larger:\n",
    "        # A[equal] is the incoming unclassified element\n",
    "        if A[equal] < pivot:\n",
    "            A[smaller],A[equal] = A[equal],A[smaller]\n",
    "            #print(small,equal)\n",
    "            smaller,equal = smaller+1,equal+1\n",
    "        elif A[equal] == pivot:\n",
    "            equal += 1\n",
    "        else: # A[equal] > pivot\n",
    "            larger -= 1\n",
    "            A[equal], A[larger] = A[larger],A[equal]\n",
    "A = [0,1,1,0,2,2]\n",
    "dutch_flag_partition(1,A)\n",
    "\n",
    "A"
   ]
  },
  {
   "cell_type": "code",
   "execution_count": 21,
   "metadata": {},
   "outputs": [
    {
     "data": {
      "text/plain": [
       "[0, 0, 0, 0, 0, 1, 1, 1, 1, 1, 2, 2]"
      ]
     },
     "execution_count": 21,
     "metadata": {},
     "output_type": "execute_result"
    }
   ],
   "source": [
    "a  = [0, 1, 1, 0, 1, 2, 1, 2, 0, 0, 0, 1]\n",
    "def sort012(a): \n",
    "    lo = 0\n",
    "    hi = len(a) - 1\n",
    "    mid = 0\n",
    "    while mid <= hi: \n",
    "        if a[mid] == 0: \n",
    "            a[lo],a[mid] = a[mid],a[lo] \n",
    "            lo = lo + 1\n",
    "            mid = mid + 1\n",
    "        elif a[mid] == 1: \n",
    "            mid = mid + 1\n",
    "        else: \n",
    "            a[mid],a[hi] = a[hi],a[mid]  \n",
    "            hi = hi - 1\n",
    "    return a \n",
    "sort012(a)"
   ]
  },
  {
   "cell_type": "code",
   "execution_count": 36,
   "metadata": {},
   "outputs": [],
   "source": [
    "quick_sort = lambda array: array if len(array) <= 1 else quick_sort([item for item in array[1:] if item <= array[0]]) + [array[0]] + quick_sort([item for item in array[1:] if item > array[0]])\n"
   ]
  },
  {
   "cell_type": "code",
   "execution_count": 4,
   "metadata": {},
   "outputs": [
    {
     "name": "stdout",
     "output_type": "stream",
     "text": [
      "[1, 0]\n"
     ]
    },
    {
     "data": {
      "text/plain": [
       "[1, 0, 0]"
      ]
     },
     "execution_count": 4,
     "metadata": {},
     "output_type": "execute_result"
    }
   ],
   "source": [
    "#5.2 increment an arbitrary-precision integer\n",
    "# test = [1,2,9]\n",
    "# def add_one(x):\n",
    "#     result = list(map(lambda i: i+1, x))\n",
    "#     return result\n",
    "# #add_one(test)\n",
    "\n",
    "a = [9,9]\n",
    "def plus_one(A):\n",
    "    A[-1] += 1\n",
    "    for i in reversed(range(1,len(A))):\n",
    "        if A[i] != 10:\n",
    "            break\n",
    "        A[i] = 0\n",
    "        A[i -1] += 1\n",
    "#         print(A[i])\n",
    "    if A[0] == 10:\n",
    "        A[0] = 1\n",
    "        #print(A)\n",
    "        A.append(0)\n",
    "        \n",
    "    return A\n",
    "\n",
    "plus_one(a)\n"
   ]
  },
  {
   "cell_type": "code",
   "execution_count": 26,
   "metadata": {},
   "outputs": [
    {
     "ename": "SyntaxError",
     "evalue": "invalid token (<ipython-input-26-9910b1c15fd5>, line 4)",
     "output_type": "error",
     "traceback": [
      "\u001b[0;36m  File \u001b[0;32m\"<ipython-input-26-9910b1c15fd5>\"\u001b[0;36m, line \u001b[0;32m4\u001b[0m\n\u001b[0;31m    bs = 0x +int(Bs)\u001b[0m\n\u001b[0m          ^\u001b[0m\n\u001b[0;31mSyntaxError\u001b[0m\u001b[0;31m:\u001b[0m invalid token\n"
     ]
    }
   ],
   "source": [
    "# write a program which takes as input two strings s and t of bits encoding binary numbers Bs and Bt, respectively, and returns a new string of bits representing the number Bs+Bt\n",
    "def add_binary_nums(x, y): \n",
    "        max_len = max(len(x), len(y)) \n",
    "  \n",
    "        x = x.zfill(max_len) \n",
    "        y = y.zfill(max_len) \n",
    "          \n",
    "        # initialize the result \n",
    "        result = '' \n",
    "          \n",
    "        # initialize the carry \n",
    "        carry = 0\n",
    "  \n",
    "        # Traverse the string \n",
    "        for i in range(max_len - 1, -1, -1): \n",
    "            r = carry \n",
    "            r += 1 if x[i] == '1' else 0\n",
    "            r += 1 if y[i] == '1' else 0\n",
    "            result = ('1' if r % 2 == 1 else '0') + result \n",
    "            carry = 0 if r < 2 else 1     # Compute the carry. \n",
    "          \n",
    "        if carry !=0 : result = '1' + result \n",
    "  \n",
    "        return result.zfill(max_len) "
   ]
  },
  {
   "cell_type": "code",
   "execution_count": 30,
   "metadata": {},
   "outputs": [
    {
     "name": "stdout",
     "output_type": "stream",
     "text": [
      "0b111\n"
     ]
    }
   ],
   "source": [
    "def bin_add(*args): return bin(sum(int(x, 2) for x in args))[2:]\n",
    "bin_add('1', '10', '100')\n",
    "aass= ['1','10','100']\n",
    "res = bin(sum(int(x,2) for x in aass ))\n",
    "print(res)\n"
   ]
  },
  {
   "cell_type": "code",
   "execution_count": 8,
   "metadata": {},
   "outputs": [
    {
     "name": "stdout",
     "output_type": "stream",
     "text": [
      "[2, 1]\n"
     ]
    }
   ],
   "source": [
    "s = reversed(range(1,len(a)))\n",
    "print(list(s))"
   ]
  },
  {
   "cell_type": "code",
   "execution_count": 14,
   "metadata": {},
   "outputs": [],
   "source": [
    "# 5.3 multiply two arbitrary-precision integers\n",
    "#def multiply(num1,num2):\n",
    "    \n",
    "num1 = [1,2,3]\n",
    "num2 = [9,8,7]"
   ]
  },
  {
   "cell_type": "code",
   "execution_count": 16,
   "metadata": {},
   "outputs": [
    {
     "data": {
      "text/plain": [
       "[1, 2, 1, 4, 0, 1]"
      ]
     },
     "execution_count": 16,
     "metadata": {},
     "output_type": "execute_result"
    }
   ],
   "source": [
    "def multiply(num1, num2):\n",
    "    sign = -1 if (num1[0]<0)^(num2[0]<0) else 1\n",
    "    num1[0], num2[0] = abs(num1[0]),abs(num2[0])\n",
    "    result = [0]* (len(num1)+len(num2))\n",
    "    for i in reversed(range(len(num1))):\n",
    "        for j in reversed(range(len(num2))):\n",
    "            result[i+j +1] += num1[i]*num2[j]\n",
    "            result[i+j] += result[i+j+1]//10\n",
    "            result[i+j+1] %= 10\n",
    "    result = result[next((i for i,x in enumerate(result) if x != 0),len(result)):] or [0]\n",
    "    return result\n",
    "multiply(num1,num2)"
   ]
  },
  {
   "cell_type": "code",
   "execution_count": 10,
   "metadata": {},
   "outputs": [
    {
     "name": "stdout",
     "output_type": "stream",
     "text": [
      "[0]\n"
     ]
    }
   ],
   "source": [
    "num1 = [0,0]\n",
    "\n",
    "x = num1[next((i for i ,x in enumerate(num1) if x != 0), len(num1)):] or [0]\n",
    "print(x)"
   ]
  },
  {
   "cell_type": "code",
   "execution_count": 15,
   "metadata": {},
   "outputs": [
    {
     "data": {
      "text/plain": [
       "'cannot reach the end'"
      ]
     },
     "execution_count": 15,
     "metadata": {},
     "output_type": "execute_result"
    }
   ],
   "source": [
    "array1= [7,0,9,6,9,6,1,7,9,0,1,2,9,0,3]\n",
    "array2= [3,2,0,0,2,0,1]\n",
    "def min_step(nums):\n",
    "#     farthest_reach, cur_reach,cnt, last_index = 0,0,0,len(a)-1\n",
    "#     i = 0\n",
    "#     while i <= cur_reach and cur_reach <= last_index:\n",
    "#         if i > farthest_reach:\n",
    "#             farthest_reach = cur_reach\n",
    "#             cnt += 1\n",
    "#         cur_reach = max(cur_reach,a[i]+i)\n",
    "#         i += 1\n",
    "#     return cnt\n",
    "    curReach,lastReach,cnt,Len=0,0,0,len(nums)\n",
    "    for i in range(0,Len):\n",
    "        if lastReach < i :\n",
    "            lastReach = curReach\n",
    "            cnt += 1            \n",
    "        if nums[i]+i == curReach and curReach < Len-1:\n",
    "            return \"cannot reach the end\"\n",
    "        else:\n",
    "            curReach = max(curReach,nums[i]+i)\n",
    "  \n",
    "\n",
    "    return cnt\n",
    "#min_step(array1)\n",
    "min_step(array2)"
   ]
  },
  {
   "cell_type": "code",
   "execution_count": 9,
   "metadata": {},
   "outputs": [
    {
     "name": "stdout",
     "output_type": "stream",
     "text": [
      "3\n"
     ]
    },
    {
     "data": {
      "text/plain": [
       "False"
      ]
     },
     "execution_count": 9,
     "metadata": {},
     "output_type": "execute_result"
    }
   ],
   "source": [
    "array2= [3,2,0,0,2,0,1]\n",
    "def can_reach_end(nums):\n",
    "    farthest_reach, last_index = 0, len(nums)-1\n",
    "    i = 0\n",
    "    while i <= farthest_reach and farthest_reach < last_index:\n",
    "        farthest_reach = max(farthest_reach, nums[i]+i)\n",
    "        i += 1\n",
    "    print(farthest_reach)\n",
    "    return farthest_reach >= last_index\n",
    "can_reach_end(array2)"
   ]
  },
  {
   "cell_type": "code",
   "execution_count": 7,
   "metadata": {},
   "outputs": [
    {
     "data": {
      "text/plain": [
       "6"
      ]
     },
     "execution_count": 7,
     "metadata": {},
     "output_type": "execute_result"
    }
   ],
   "source": [
    "#5.5 delete duplicates from a sorted array\n",
    "test = [2,3,5,5,7,11,11,11,13]\n",
    "# test = set(test)\n",
    "# test = list(test)\n",
    "#print(test)\n",
    "# shift duplicate numbers to right and return the valid numbers of entries\n",
    "# def delete_duplicate(t):\n",
    "#     if not t:\n",
    "#         return 0\n",
    "#     write_index = 1\n",
    "#     for i in range(1,len(t)):\n",
    "#         if t[i-1] != t[i]:\n",
    "#             t[write_index] = t[i]\n",
    "#             write_index += 1\n",
    "#     return write_index\n",
    "#delete_duplicate(test)\n",
    "# variante input an array and a key so that remove the key and the remaining elements have been shifted left to fill the emptied indices.\n",
    "def delete_key(t,key):\n",
    "    if not t:\n",
    "        return 0\n",
    "    count_index = 0\n",
    "    for i in range(len(t)):\n",
    "        if t[i] != key:\n",
    "            t[count_index] = t[i]\n",
    "            count_index += 1\n",
    "    return count_index\n",
    "delete_key(test,11)\n"
   ]
  },
  {
   "cell_type": "code",
   "execution_count": 16,
   "metadata": {},
   "outputs": [
    {
     "data": {
      "text/plain": [
       "30"
      ]
     },
     "execution_count": 16,
     "metadata": {},
     "output_type": "execute_result"
    }
   ],
   "source": [
    "# 5.6 Buy and sell astock once\n",
    "# brute_force\n",
    "price = [310, 315, 275, 295, 260, 270, 290, 230, 255, 250]\n",
    "def low_high(x):\n",
    "    gap = 0\n",
    "    max_price = 0\n",
    "    for i in range(len(price)):\n",
    "        for j in range(i,len(price)):\n",
    "            if price[i]<price[j]:\n",
    "                gap = price[j]- price[i]\n",
    "            if gap > max_price:\n",
    "                max_price = gap\n",
    "    return max_price\n",
    "low_high(price)      "
   ]
  },
  {
   "cell_type": "code",
   "execution_count": 29,
   "metadata": {},
   "outputs": [
    {
     "ename": "TypeError",
     "evalue": "'int' object is not iterable",
     "output_type": "error",
     "traceback": [
      "\u001b[0;31m---------------------------------------------------------------------------\u001b[0m",
      "\u001b[0;31mTypeError\u001b[0m                                 Traceback (most recent call last)",
      "\u001b[0;32m<ipython-input-29-71ff80ca7d03>\u001b[0m in \u001b[0;36m<module>\u001b[0;34m()\u001b[0m\n\u001b[1;32m     22\u001b[0m                \u001b[0mmaxSubArraySum\u001b[0m\u001b[0;34m(\u001b[0m\u001b[0marr\u001b[0m\u001b[0;34m,\u001b[0m \u001b[0mmid\u001b[0m\u001b[0;34m+\u001b[0m\u001b[0;36m1\u001b[0m\u001b[0;34m,\u001b[0m \u001b[0mright\u001b[0m\u001b[0;34m)\u001b[0m\u001b[0;34m,\u001b[0m\u001b[0;34m\u001b[0m\u001b[0m\n\u001b[1;32m     23\u001b[0m                maxCrossingSum(arr, left, mid, right))\n\u001b[0;32m---> 24\u001b[0;31m \u001b[0mmaxSubArraySum\u001b[0m\u001b[0;34m(\u001b[0m\u001b[0mprice\u001b[0m\u001b[0;34m,\u001b[0m\u001b[0;36m0\u001b[0m\u001b[0;34m,\u001b[0m\u001b[0;36m9\u001b[0m\u001b[0;34m)\u001b[0m\u001b[0;34m\u001b[0m\u001b[0m\n\u001b[0m",
      "\u001b[0;32m<ipython-input-29-71ff80ca7d03>\u001b[0m in \u001b[0;36mmaxSubArraySum\u001b[0;34m(arr, left, right)\u001b[0m\n\u001b[1;32m     19\u001b[0m     \u001b[0;31m# Find middle point\u001b[0m\u001b[0;34m\u001b[0m\u001b[0;34m\u001b[0m\u001b[0m\n\u001b[1;32m     20\u001b[0m     \u001b[0mmid\u001b[0m \u001b[0;34m=\u001b[0m \u001b[0;34m(\u001b[0m\u001b[0mleft\u001b[0m \u001b[0;34m+\u001b[0m \u001b[0mright\u001b[0m\u001b[0;34m)\u001b[0m \u001b[0;34m//\u001b[0m \u001b[0;36m2\u001b[0m\u001b[0;34m\u001b[0m\u001b[0m\n\u001b[0;32m---> 21\u001b[0;31m     return max(maxSubArraySum(arr, left, mid), \n\u001b[0m\u001b[1;32m     22\u001b[0m                \u001b[0mmaxSubArraySum\u001b[0m\u001b[0;34m(\u001b[0m\u001b[0marr\u001b[0m\u001b[0;34m,\u001b[0m \u001b[0mmid\u001b[0m\u001b[0;34m+\u001b[0m\u001b[0;36m1\u001b[0m\u001b[0;34m,\u001b[0m \u001b[0mright\u001b[0m\u001b[0;34m)\u001b[0m\u001b[0;34m,\u001b[0m\u001b[0;34m\u001b[0m\u001b[0m\n\u001b[1;32m     23\u001b[0m                maxCrossingSum(arr, left, mid, right))\n",
      "\u001b[0;32m<ipython-input-29-71ff80ca7d03>\u001b[0m in \u001b[0;36mmaxSubArraySum\u001b[0;34m(arr, left, right)\u001b[0m\n\u001b[1;32m     19\u001b[0m     \u001b[0;31m# Find middle point\u001b[0m\u001b[0;34m\u001b[0m\u001b[0;34m\u001b[0m\u001b[0m\n\u001b[1;32m     20\u001b[0m     \u001b[0mmid\u001b[0m \u001b[0;34m=\u001b[0m \u001b[0;34m(\u001b[0m\u001b[0mleft\u001b[0m \u001b[0;34m+\u001b[0m \u001b[0mright\u001b[0m\u001b[0;34m)\u001b[0m \u001b[0;34m//\u001b[0m \u001b[0;36m2\u001b[0m\u001b[0;34m\u001b[0m\u001b[0m\n\u001b[0;32m---> 21\u001b[0;31m     return max(maxSubArraySum(arr, left, mid), \n\u001b[0m\u001b[1;32m     22\u001b[0m                \u001b[0mmaxSubArraySum\u001b[0m\u001b[0;34m(\u001b[0m\u001b[0marr\u001b[0m\u001b[0;34m,\u001b[0m \u001b[0mmid\u001b[0m\u001b[0;34m+\u001b[0m\u001b[0;36m1\u001b[0m\u001b[0;34m,\u001b[0m \u001b[0mright\u001b[0m\u001b[0;34m)\u001b[0m\u001b[0;34m,\u001b[0m\u001b[0;34m\u001b[0m\u001b[0m\n\u001b[1;32m     23\u001b[0m                maxCrossingSum(arr, left, mid, right))\n",
      "\u001b[0;32m<ipython-input-29-71ff80ca7d03>\u001b[0m in \u001b[0;36mmaxSubArraySum\u001b[0;34m(arr, left, right)\u001b[0m\n\u001b[1;32m     19\u001b[0m     \u001b[0;31m# Find middle point\u001b[0m\u001b[0;34m\u001b[0m\u001b[0;34m\u001b[0m\u001b[0m\n\u001b[1;32m     20\u001b[0m     \u001b[0mmid\u001b[0m \u001b[0;34m=\u001b[0m \u001b[0;34m(\u001b[0m\u001b[0mleft\u001b[0m \u001b[0;34m+\u001b[0m \u001b[0mright\u001b[0m\u001b[0;34m)\u001b[0m \u001b[0;34m//\u001b[0m \u001b[0;36m2\u001b[0m\u001b[0;34m\u001b[0m\u001b[0m\n\u001b[0;32m---> 21\u001b[0;31m     return max(maxSubArraySum(arr, left, mid), \n\u001b[0m\u001b[1;32m     22\u001b[0m                \u001b[0mmaxSubArraySum\u001b[0m\u001b[0;34m(\u001b[0m\u001b[0marr\u001b[0m\u001b[0;34m,\u001b[0m \u001b[0mmid\u001b[0m\u001b[0;34m+\u001b[0m\u001b[0;36m1\u001b[0m\u001b[0;34m,\u001b[0m \u001b[0mright\u001b[0m\u001b[0;34m)\u001b[0m\u001b[0;34m,\u001b[0m\u001b[0;34m\u001b[0m\u001b[0m\n\u001b[1;32m     23\u001b[0m                maxCrossingSum(arr, left, mid, right))\n",
      "\u001b[0;32m<ipython-input-29-71ff80ca7d03>\u001b[0m in \u001b[0;36mmaxSubArraySum\u001b[0;34m(arr, left, right)\u001b[0m\n\u001b[1;32m     21\u001b[0m     return max(maxSubArraySum(arr, left, mid), \n\u001b[1;32m     22\u001b[0m                \u001b[0mmaxSubArraySum\u001b[0m\u001b[0;34m(\u001b[0m\u001b[0marr\u001b[0m\u001b[0;34m,\u001b[0m \u001b[0mmid\u001b[0m\u001b[0;34m+\u001b[0m\u001b[0;36m1\u001b[0m\u001b[0;34m,\u001b[0m \u001b[0mright\u001b[0m\u001b[0;34m)\u001b[0m\u001b[0;34m,\u001b[0m\u001b[0;34m\u001b[0m\u001b[0m\n\u001b[0;32m---> 23\u001b[0;31m                maxCrossingSum(arr, left, mid, right))\n\u001b[0m\u001b[1;32m     24\u001b[0m \u001b[0mmaxSubArraySum\u001b[0m\u001b[0;34m(\u001b[0m\u001b[0mprice\u001b[0m\u001b[0;34m,\u001b[0m\u001b[0;36m0\u001b[0m\u001b[0;34m,\u001b[0m\u001b[0;36m9\u001b[0m\u001b[0;34m)\u001b[0m\u001b[0;34m\u001b[0m\u001b[0m\n",
      "\u001b[0;32m<ipython-input-29-71ff80ca7d03>\u001b[0m in \u001b[0;36mmaxCrossingSum\u001b[0;34m(arr, left, mid, right)\u001b[0m\n\u001b[1;32m     11\u001b[0m         \u001b[0;32mif\u001b[0m \u001b[0mres\u001b[0m\u001b[0;34m>\u001b[0m \u001b[0mright_res\u001b[0m\u001b[0;34m:\u001b[0m\u001b[0;34m\u001b[0m\u001b[0m\n\u001b[1;32m     12\u001b[0m             \u001b[0mright_res\u001b[0m \u001b[0;34m=\u001b[0m \u001b[0mres\u001b[0m\u001b[0;34m\u001b[0m\u001b[0m\n\u001b[0;32m---> 13\u001b[0;31m     \u001b[0;32mreturn\u001b[0m \u001b[0mmax\u001b[0m\u001b[0;34m(\u001b[0m\u001b[0mright_res\u001b[0m\u001b[0;34m)\u001b[0m \u001b[0;34m-\u001b[0m \u001b[0mmin\u001b[0m\u001b[0;34m(\u001b[0m\u001b[0mright_res\u001b[0m\u001b[0;34m)\u001b[0m\u001b[0;34m\u001b[0m\u001b[0m\n\u001b[0m\u001b[1;32m     14\u001b[0m \u001b[0;34m\u001b[0m\u001b[0m\n\u001b[1;32m     15\u001b[0m \u001b[0;32mdef\u001b[0m \u001b[0mmaxSubArraySum\u001b[0m\u001b[0;34m(\u001b[0m\u001b[0marr\u001b[0m\u001b[0;34m,\u001b[0m \u001b[0mleft\u001b[0m\u001b[0;34m,\u001b[0m \u001b[0mright\u001b[0m\u001b[0;34m)\u001b[0m\u001b[0;34m:\u001b[0m\u001b[0;34m\u001b[0m\u001b[0m\n",
      "\u001b[0;31mTypeError\u001b[0m: 'int' object is not iterable"
     ]
    }
   ],
   "source": [
    "# divide and conquer (bu hui )\n",
    "def maxCrossingSum(arr, left, mid, right):\n",
    "    res = 0; left_res = -10000000\n",
    "    for i in range(mid,left-1,-1):\n",
    "        res = arr[mid]-arr[i]\n",
    "        if res > left_res:\n",
    "            left_res = res\n",
    "    res = 0; right_res = -10000000\n",
    "    for j in range(mid+1,right+1):\n",
    "        res = arr[right] - arr[i]\n",
    "        if res> right_res:\n",
    "            right_res = res\n",
    "    return right_res + left_res\n",
    "\n",
    "def maxSubArraySum(arr, left, right):\n",
    "    if (left == right) : \n",
    "        return arr[left] \n",
    "  \n",
    "    # Find middle point \n",
    "    mid = (left + right) // 2\n",
    "    return max(maxSubArraySum(arr, left, mid), \n",
    "               maxSubArraySum(arr, mid+1, right), \n",
    "               maxCrossingSum(arr, left, mid, right))\n",
    "maxSubArraySum(price,0,9)"
   ]
  },
  {
   "cell_type": "code",
   "execution_count": 32,
   "metadata": {},
   "outputs": [
    {
     "name": "stdout",
     "output_type": "stream",
     "text": [
      "0 0\n",
      "5\n",
      "0 0\n",
      "-35\n",
      "0 0\n",
      "20\n",
      "5 20\n",
      "-15\n",
      "0 0\n",
      "20\n",
      "0 0\n",
      "-5\n",
      "0 0\n",
      "25\n",
      "20 25\n",
      "-15\n",
      "20 25\n",
      "30\n"
     ]
    },
    {
     "data": {
      "text/plain": [
       "30"
      ]
     },
     "execution_count": 32,
     "metadata": {},
     "output_type": "execute_result"
    }
   ],
   "source": [
    "# divide and conquer\n",
    "def DivideAndConquerSingleSellProfit(arr):\n",
    "    # Base case: If the array has zero or one elements in it, the maximum\n",
    "    # profit is 0.\n",
    "    if len(arr) <= 1:\n",
    "        return 0;\n",
    "\n",
    "    # Cut the array into two roughly equal pieces.\n",
    "    left  = arr[ : int(len(arr) / 2)]\n",
    "    right = arr[int(len(arr) / 2) : ]\n",
    "    #print(left,right)\n",
    "\n",
    "    # Find the values for buying and selling purely in the left or purely in\n",
    "    # the right.\n",
    "    leftBest  = DivideAndConquerSingleSellProfit(left)\n",
    "    rightBest = DivideAndConquerSingleSellProfit(right)\n",
    "    print(leftBest,rightBest)\n",
    "\n",
    "    # Compute the best profit for buying in the left and selling in the right.\n",
    "    crossBest = max(right) - min(left)\n",
    "    print(crossBest)\n",
    "\n",
    "    # Return the best of the three\n",
    "    return max(leftBest, rightBest, crossBest)\n",
    "DivideAndConquerSingleSellProfit(price)"
   ]
  },
  {
   "cell_type": "code",
   "execution_count": null,
   "metadata": {},
   "outputs": [],
   "source": []
  },
  {
   "cell_type": "code",
   "execution_count": 24,
   "metadata": {},
   "outputs": [
    {
     "data": {
      "text/plain": [
       "30"
      ]
     },
     "execution_count": 24,
     "metadata": {},
     "output_type": "execute_result"
    }
   ],
   "source": [
    "def buy_and_sell_once(prices):\n",
    "    min_sofar,max_profit = float('inf'),0\n",
    "    for price in prices:\n",
    "        max_price_today = price - min_sofar\n",
    "        max_profit = max(max_price_today,max_profit)\n",
    "        min_sofar = min(min_sofar,price)\n",
    "    return max_profit\n",
    "buy_and_sell_once(price)"
   ]
  },
  {
   "cell_type": "code",
   "execution_count": 65,
   "metadata": {
    "collapsed": true
   },
   "outputs": [
    {
     "name": "stdout",
     "output_type": "stream",
     "text": [
      "-inf\n",
      "0\n",
      "-40\n",
      "0\n",
      "-15\n",
      "10\n",
      "0\n",
      "10\n",
      "-5\n",
      "-5\n"
     ]
    },
    {
     "data": {
      "text/plain": [
       "2"
      ]
     },
     "execution_count": 65,
     "metadata": {},
     "output_type": "execute_result"
    }
   ],
   "source": [
    "# write a program that takes an array of integers and finds the length of a longest subarray all of whose entries are equal\n",
    "def find_longest_subarray(prices):\n",
    "    min_sofar, max_profit = float('inf'),0\n",
    "    cnt= 1; longest = 1\n",
    "    for price in prices:\n",
    "        max_price_today = price - min_sofar\n",
    "        #max_profit = max(max_price_today,max_profit)\n",
    "        min_sofar = min(min_sofar,price)\n",
    "        print(max_price_today)\n",
    "        if max_price_today == 0:\n",
    "            cnt +=1\n",
    "            if cnt >= longest:\n",
    "                longest = cnt\n",
    "        else:cnt = 1\n",
    "    return longest\n",
    "find_longest_subarray(price)       "
   ]
  },
  {
   "cell_type": "code",
   "execution_count": 75,
   "metadata": {
    "collapsed": true
   },
   "outputs": [
    {
     "name": "stdout",
     "output_type": "stream",
     "text": [
      "15\n",
      "13\n",
      "14\n",
      "8\n",
      "12\n",
      "9\n",
      "13\n",
      "11\n"
     ]
    }
   ],
   "source": [
    "price = [12,11,13,9,12,8,14,13,15]\n",
    "for i, pricea in reversed(list(enumerate(price[1:],1))):\n",
    "    print(pricea)"
   ]
  },
  {
   "cell_type": "code",
   "execution_count": 76,
   "metadata": {},
   "outputs": [
    {
     "data": {
      "text/plain": [
       "10"
      ]
     },
     "execution_count": 76,
     "metadata": {},
     "output_type": "execute_result"
    }
   ],
   "source": [
    "def buy_and_sell_stock_twice(prices):\n",
    "    min_sofar, max_total_price = float('inf'),0\n",
    "    first_buy_and_sell = [0]*len(prices)\n",
    "    for i,price in enumerate(prices):\n",
    "        min_sofar = min(min_sofar,price)\n",
    "        max_total_price = max(max_total_price, price - min_sofar)\n",
    "        first_buy_and_sell[i] = max_total_price# use space O(n)\n",
    "    max_sofar =  float('-inf')\n",
    "    for i,price in reversed(list (enumerate(prices[1:],1))):\n",
    "        max_sofar = max(max_sofar, price)\n",
    "        max_total_price = max(max_total_price, max_sofar -price + first_buy_and_sell[i-1])\n",
    "    return max_total_price\n",
    "buy_and_sell_stock_twice(price)"
   ]
  },
  {
   "cell_type": "code",
   "execution_count": 104,
   "metadata": {},
   "outputs": [
    {
     "name": "stdout",
     "output_type": "stream",
     "text": [
      "[2, 4]\n",
      "[5, 4]\n",
      "[4, 6]\n",
      "[7, 6]\n",
      "[4, 6]\n",
      "[6, 6]\n",
      "[5, 6]\n",
      "[9, 6]\n",
      "[6]\n"
     ]
    },
    {
     "data": {
      "text/plain": [
       "[2, 5, 4, 7, 4, 6, 5, 9, 6]"
      ]
     },
     "execution_count": 104,
     "metadata": {},
     "output_type": "execute_result"
    }
   ],
   "source": [
    "A = [2,4,5,6,7,4,6,5,9]\n",
    "def rearrange(A):\n",
    "    for i in range(len(A)):\n",
    "        A[i:i+2] = sorted(A[i:i+2], reverse = i%2)# reverse = 0, 从小到大 ，reverse = 1， 从大到小。\n",
    "        print(A[i:i+2])\n",
    "rearrange(A)\n",
    "A"
   ]
  },
  {
   "cell_type": "code",
   "execution_count": 109,
   "metadata": {},
   "outputs": [
    {
     "data": {
      "text/plain": [
       "[9, 7, 6, 6, 5, 5, 4, 4, 2]"
      ]
     },
     "execution_count": 109,
     "metadata": {},
     "output_type": "execute_result"
    }
   ],
   "source": [
    "A = [2,4,5,6,7,4,6,5,9]\n",
    "A = sorted(A,reverse = 1)\n",
    "A"
   ]
  },
  {
   "cell_type": "code",
   "execution_count": 116,
   "metadata": {},
   "outputs": [
    {
     "name": "stdout",
     "output_type": "stream",
     "text": [
      "[False, False, False, False, False, False, False, False, False, False, False]\n"
     ]
    },
    {
     "data": {
      "text/plain": [
       "[2, 3, 5, 7]"
      ]
     },
     "execution_count": 116,
     "metadata": {},
     "output_type": "execute_result"
    }
   ],
   "source": [
    "def generate_primes(n):\n",
    "    primes = []\n",
    "    is_prime = [False,False]+ [True]*(n-1)\n",
    "    for p in range(2,n+1):\n",
    "        if is_prime[p]:\n",
    "            primes.append(p)\n",
    "            for i in range(p,n+1,p):\n",
    "                is_prime[i] = False\n",
    "   # print(is_prime)\n",
    "    return primes\n",
    "generate_primes(10)"
   ]
  },
  {
   "cell_type": "code",
   "execution_count": 115,
   "metadata": {},
   "outputs": [
    {
     "name": "stdout",
     "output_type": "stream",
     "text": [
      "[False, False, False, False, False, False, False, False, False, False, False]\n"
     ]
    }
   ],
   "source": [
    "n= 10\n",
    "primes = []\n",
    "is_prime = [False,False]+ [True]*(n-1)\n",
    "for p in range(2,n+1):\n",
    "    if is_prime[p]:\n",
    "        primes.append(p)\n",
    "        for i in range(p,n+1,p):\n",
    "            is_prime[i] = False\n",
    "        "
   ]
  },
  {
   "cell_type": "code",
   "execution_count": 163,
   "metadata": {},
   "outputs": [
    {
     "data": {
      "text/plain": [
       "[2, 3, 5, 7]"
      ]
     },
     "execution_count": 163,
     "metadata": {},
     "output_type": "execute_result"
    }
   ],
   "source": [
    "def generate_prime(n):\n",
    "    prime = []\n",
    "    if n < 2:\n",
    "        return []\n",
    "    size = (n-3)//2 + 1\n",
    "    is_prime = [True]*size\n",
    "    for i in range(size):\n",
    "        if is_prime[i]:\n",
    "            p = 2*i + 3\n",
    "            prime.append(p)\n",
    "            for j in range(2*i**2 + 6*i + 3,size,p):\n",
    "                is_prime[j] = False\n",
    "    return primes\n",
    "generate_prime(10)"
   ]
  },
  {
   "cell_type": "code",
   "execution_count": 144,
   "metadata": {},
   "outputs": [
    {
     "data": {
      "text/plain": [
       "49"
      ]
     },
     "execution_count": 144,
     "metadata": {},
     "output_type": "execute_result"
    }
   ],
   "source": [
    "arr = [1,8,6,2,5,4,8,3,7]\n",
    "def contain_water(arr):\n",
    "    right, left = 0, len(arr)-1\n",
    "    contain_water = 0\n",
    "\n",
    "    while right < left:\n",
    "        contain_water = max(contain_water,(min(arr[right],arr[left])*(left - right)))\n",
    "        if left > right:\n",
    "            right += 1\n",
    "        else:\n",
    "            left -= 1\n",
    "    return contain_water\n",
    "contain_water(arr)"
   ]
  },
  {
   "cell_type": "code",
   "execution_count": 50,
   "metadata": {},
   "outputs": [
    {
     "data": {
      "text/plain": [
       "['d', 'b', 'c', 'a']"
      ]
     },
     "execution_count": 50,
     "metadata": {},
     "output_type": "execute_result"
    }
   ],
   "source": [
    "# permtation\n",
    "perm = [3,1,2,0]\n",
    "A = ['a','b','c','d']\n",
    "\n",
    "def apply_permutation(perm, A):\n",
    "    for i in range(len(A)):\n",
    "        next = i\n",
    "        while perm[next] >= 0:\n",
    "            A[i],A[perm[next]] = A[perm[next]],A[i]\n",
    "            temp = perm[next]\n",
    "            perm[next] -= len(perm)\n",
    "            next = temp\n",
    "    perm[:] = [a + len(perm) for a in perm]\n",
    "apply_permutation(perm,A)\n",
    "A"
   ]
  },
  {
   "cell_type": "code",
   "execution_count": 162,
   "metadata": {},
   "outputs": [
    {
     "name": "stdout",
     "output_type": "stream",
     "text": [
      "3 0\n",
      "0 0\n",
      "1 1\n",
      "1 1\n",
      "2 2\n",
      "2 2\n",
      "0 3\n"
     ]
    },
    {
     "data": {
      "text/plain": [
       "['d', 'b', 'c', 'a']"
      ]
     },
     "execution_count": 162,
     "metadata": {},
     "output_type": "execute_result"
    }
   ],
   "source": [
    "def apply_permutation(perm,A):\n",
    "    def cyclic_permutation(start, perm, A):\n",
    "        i, temp = start, A[start]\n",
    "        #print(i)\n",
    "        while True:\n",
    "            next_i = perm[i]\n",
    "            next_temp = A[next_i]\n",
    "            A[next_i] = temp\n",
    "            i, temp = next_i, next_temp\n",
    "            if i == start:\n",
    "                #print(i,start)\n",
    "                break\n",
    "    for i in range(len(A)):\n",
    "        j = perm[i]\n",
    "        #print(j,i)\n",
    "        while j != i:\n",
    "            if j < i:\n",
    "                break\n",
    "            j = perm[j]\n",
    "        else:\n",
    "            cyclic_permutation(i, perm, A)\n",
    "            #print(i)\n",
    "apply_permutation(perm,A)\n",
    "A\n",
    "perm = [3,1,2,0]\n",
    "A = ['a','b','c','d']"
   ]
  },
  {
   "cell_type": "code",
   "execution_count": null,
   "metadata": {},
   "outputs": [],
   "source": [
    "perm = [3,1,2,0]\n",
    "A = ['a','b','c','d']\n",
    "def apply_permutation(perm, A):\n",
    "    for i in range(len(A)):\n",
    "        next = i\n",
    "        while perm[A] > 0:\n",
    "            \n",
    "            A[i], A[perm[next]] = A[perm[next]],A[i]\n",
    "            temp = A[perm[next]]\n",
    "            perm[next] -= len(A)\n",
    "            next = temp\n",
    "    perm[:] = [a+len(A) for a in perm]\n",
    "        \n",
    "    "
   ]
  },
  {
   "cell_type": "code",
   "execution_count": 180,
   "metadata": {},
   "outputs": [
    {
     "name": "stdout",
     "output_type": "stream",
     "text": [
      "2\n"
     ]
    },
    {
     "data": {
      "text/plain": [
       "[6, 2, 3, 0, 1, 4, 5]"
      ]
     },
     "execution_count": 180,
     "metadata": {},
     "output_type": "execute_result"
    }
   ],
   "source": [
    "# next permutation\n",
    "nums = [6,2,1,5,4,3,0]\n",
    "def next_permutation(nums):\n",
    "    r,increase_num = len(nums)-2,1\n",
    "    for i in range(r,0,-1):\n",
    "        if nums[r]>= nums[r+1]:\n",
    "            r-= 1\n",
    "            \n",
    "            \n",
    "        else:\n",
    "            partition = r \n",
    "            print(partition)\n",
    "            break\n",
    "    for j in reversed(range(nums[partition+1],len(nums))):\n",
    "        if nums[j]> nums[partition]:\n",
    "            nums[j],nums[partition] = nums[partition],nums[j]\n",
    "            break\n",
    "    nums[partition+1:] = reversed(nums[partition+1:])\n",
    "   \n",
    "    return nums\n",
    "next_permutation(nums)\n",
    "                    "
   ]
  },
  {
   "cell_type": "code",
   "execution_count": 64,
   "metadata": {},
   "outputs": [
    {
     "data": {
      "text/plain": [
       "[1, 3, 2]"
      ]
     },
     "execution_count": 64,
     "metadata": {},
     "output_type": "execute_result"
    }
   ],
   "source": [
    "def next_permutation(perm):\n",
    "    # Find the first entry from the right that is smaller than the entry\n",
    "    # immediately after it.\n",
    "    inversion_point = len(perm) - 2\n",
    "    while (inversion_point >= 0\n",
    "           and perm[inversion_point] > perm[inversion_point + 1]):\n",
    "        inversion_point -= 1\n",
    "    if inversion_point == -1:\n",
    "        return []  # perm is the last permutation.\n",
    "\n",
    "    # Swap the smallest entry after index inversion_point that is greater than\n",
    "    # perm[inversion_point]. Since entries in perm are decreasing after\n",
    "    # inversion_point, if we search in reverse order, the first entry that is\n",
    "    # greater than perm[inversion_point] is the entry to swap with.\n",
    "    for i in reversed(range(inversion_point + 1, len(perm))):\n",
    "        if perm[i] > perm[inversion_point]:\n",
    "            perm[inversion_point], perm[i] = perm[i], perm[inversion_point]\n",
    "            break\n",
    "\n",
    "    # Entries in perm must appear in decreasing order after inversion_point,\n",
    "    # so we simply reverse these entries to get the smallest dictionary order.\n",
    "    perm[inversion_point + 1:] = reversed(perm[inversion_point + 1:])\n",
    "    return perm\n",
    "nums = [1,2,3]\n",
    "next_permutation(nums)"
   ]
  },
  {
   "cell_type": "code",
   "execution_count": 11,
   "metadata": {},
   "outputs": [
    {
     "name": "stdout",
     "output_type": "stream",
     "text": [
      "Following are k randomly selected items\n",
      "5 6 11 0 12 \n",
      "[5, 6, 11, 0, 12]\n"
     ]
    }
   ],
   "source": [
    "# sample offline data（select k subset from array A eventaully） select one element from an array: 1/n sleect two element is:(1/n*1/n-1)\n",
    "# An efficient Python3 program  \n",
    "# to randomly select k items \n",
    "# from a stream of items \n",
    "import random \n",
    "# A utility function  \n",
    "# to print an array \n",
    "def printArray(stream,n): \n",
    "    for i in range(n): \n",
    "        print(stream[i],end=\" \"); \n",
    "    print(); \n",
    "    \n",
    "# A function to randomly select. \n",
    "# k items from stream[0..n-1]. \n",
    "def selectKItems(stream, n, k): \n",
    "        i=0;  \n",
    "        # index for elements \n",
    "        # in stream[] \n",
    "          \n",
    "        # reservoir[] is the output  \n",
    "        # array. Initialize it with \n",
    "        # first k elements from stream[] \n",
    "        reservoir = [0]*k; \n",
    "        for _ in range(k): \n",
    "            reservoir[i] = stream[i]; \n",
    "          \n",
    "        # Iterate from the (k+1)th \n",
    "        # element to nth element \n",
    "        while(i < n): \n",
    "            # Pick a random index \n",
    "            # from 0 to i. \n",
    "            j = random.randrange(i+1); \n",
    "                     # If the randomly picked \n",
    "            # index is smaller than k, \n",
    "            # then replace the element \n",
    "            # present at the index \n",
    "            # with new element from stream \n",
    "            if(j < k): \n",
    "                reservoir[j] = stream[i]; \n",
    "            i+=1; \n",
    "          \n",
    "        print(\"Following are k randomly selected items\") \n",
    "        printArray(reservoir, k)\n",
    "        print(reservoir)\n",
    "      \n",
    "# Driver Code \n",
    "  \n",
    "if __name__ == \"__main__\": \n",
    "    stream = [1, 2, 3, 4, 5, 6, 7, 8, 9, 10, 11, 12]; \n",
    "    n = len(stream); \n",
    "    k = 5; \n",
    "    selectKItems(stream, n, k); \n",
    "  \n",
    "# This code is contributed by mits "
   ]
  },
  {
   "cell_type": "code",
   "execution_count": 59,
   "metadata": {},
   "outputs": [
    {
     "name": "stdout",
     "output_type": "stream",
     "text": [
      "{0: 0, 7: 1, 1: 7, 4: 2, 2: 4, 8: 3, 3: 8}\n"
     ]
    },
    {
     "data": {
      "text/plain": [
       "[0, 7, 4, 8]"
      ]
     },
     "execution_count": 59,
     "metadata": {},
     "output_type": "execute_result"
    }
   ],
   "source": [
    "# smaple offline data\n",
    "\n",
    "def random_sampling(k,A):\n",
    "    for i in range(k):\n",
    "        j = random.randint(i,len(A)-1)\n",
    "        A[i],A[j] = A[j],A[i]\n",
    "random_sampling(2,A)  \n",
    "def random_sampling_online(k,stream):\n",
    "    result = list(itertools.islice(stream,k))\n",
    "    nums_so_far = k\n",
    "    for x in stream:\n",
    "        nums_so_far += 1\n",
    "        index_to_replace = random.randrange(nums_sofar)\n",
    "        if index_to_replace < k:\n",
    "            result[index_to_replace] = x\n",
    "    return result\n",
    "def compute_random_oermutation(n):\n",
    "    permutation = list(range(n))\n",
    "    random_sampling(n,permutation)\n",
    "    return permutation\n",
    "def random_subset(n,k):\n",
    "    swap_results = {}\n",
    "    for i in range(k):\n",
    "        rand_index = random.randrange(i,n)\n",
    "        index_mapped = swap_results.get(rand_index,rand_index)\n",
    "        i_mapped = swap_results.get(i,i)\n",
    "        swap_results[rand_index] = i_mapped\n",
    "        swap_results[i] = rand_index\n",
    "    print(swap_results)\n",
    "    return [swap_results[i] for i in range(k)]\n",
    "random_subset(10,4)  \n"
   ]
  },
  {
   "cell_type": "code",
   "execution_count": 51,
   "metadata": {},
   "outputs": [
    {
     "name": "stdout",
     "output_type": "stream",
     "text": [
      "[12, 3, 4, 7, 10]\n"
     ]
    }
   ],
   "source": [
    "import random\n",
    "def select_sample(streams,k):\n",
    "    i = 0\n",
    "    reservoir = [0]*k\n",
    "    for i in range(k):\n",
    "        reservoir[i] = streams[i]\n",
    "    while i < len(streams):\n",
    "        j = random.randrange(i+1)\n",
    "        if (j<k):\n",
    "            reservoir[j] = streams[i]\n",
    "        i += 1\n",
    "    print(reservoir)\n",
    "select_sample(stream,k)"
   ]
  },
  {
   "cell_type": "code",
   "execution_count": 22,
   "metadata": {},
   "outputs": [
    {
     "data": {
      "text/plain": [
       "[2, 11, 4, 9, 10, 7]"
      ]
     },
     "execution_count": 22,
     "metadata": {},
     "output_type": "execute_result"
    }
   ],
   "source": [
    "def random_sample(k,A):\n",
    "    for i in range(k):\n",
    "        r = random.randint(i,len(A)-1)\n",
    "        A[i],A[r] = A[r],A[i]\n",
    "    return A[:k+1]\n",
    "random_sample(5,stream)\n"
   ]
  },
  {
   "cell_type": "code",
   "execution_count": 19,
   "metadata": {},
   "outputs": [
    {
     "data": {
      "text/plain": [
       "[7, 1, 10, 12, 1]"
      ]
     },
     "execution_count": 19,
     "metadata": {},
     "output_type": "execute_result"
    }
   ],
   "source": [
    "import itertools\n",
    "# Assumption: there are at least k elements in the stream.\n",
    "def online_random_sample(stream, k):\n",
    "    firstK = list(itertools.islice(stream,k))\n",
    "    nums_sofar = k\n",
    "    for x in stream:\n",
    "        nums_sofar += 1\n",
    "        j = random.randrange(nums_sofar)\n",
    "        if j < k:\n",
    "            firstK[j] = x\n",
    "    return firstK\n",
    "online_random_sample(stream,5)"
   ]
  },
  {
   "cell_type": "code",
   "execution_count": 24,
   "metadata": {},
   "outputs": [
    {
     "data": {
      "text/plain": [
       "[3, 1, 2, 0, 4]"
      ]
     },
     "execution_count": 24,
     "metadata": {},
     "output_type": "execute_result"
    }
   ],
   "source": [
    "# 5.14 compute a random permutation\n",
    "def random_permutation(n):\n",
    "    def random_sample(k,A):\n",
    "        for i in range(k):\n",
    "            j = random.randrange(i+1)\n",
    "            if j< k:\n",
    "                A[i],A[j] = A[j],A[i]\n",
    "    permutation = list(range(n))\n",
    "    random_sample(n,permutation)\n",
    "    return permutation\n",
    "random_permutation(5)"
   ]
  },
  {
   "cell_type": "code",
   "execution_count": 46,
   "metadata": {},
   "outputs": [
    {
     "name": "stdout",
     "output_type": "stream",
     "text": [
      "4\n",
      "--------------------------------------------------\n",
      "4\n",
      "--------------------------------------------------\n",
      "0\n",
      "--------------------------------------------------\n",
      "0 4\n",
      "--------------------------------------------------\n",
      "{4: 0, 0: 4}\n",
      "4\n",
      "--------------------------------------------------\n",
      "0\n",
      "--------------------------------------------------\n",
      "1\n",
      "--------------------------------------------------\n",
      "1 0\n",
      "--------------------------------------------------\n",
      "{4: 1, 0: 4, 1: 0}\n",
      "3\n",
      "--------------------------------------------------\n",
      "3\n",
      "--------------------------------------------------\n",
      "2\n",
      "--------------------------------------------------\n",
      "2 3\n",
      "--------------------------------------------------\n",
      "{4: 1, 0: 4, 1: 0, 3: 2, 2: 3}\n"
     ]
    },
    {
     "data": {
      "text/plain": [
       "[4, 0, 3]"
      ]
     },
     "execution_count": 46,
     "metadata": {},
     "output_type": "execute_result"
    }
   ],
   "source": [
    "# 5.15 Compute a random subset (选出k个elements from n)\n",
    "def random_subset(n,k):\n",
    "    changed_elements = {}\n",
    "    for i in range(k):\n",
    "        rand_index = random.randrange(i,n)\n",
    "        print(rand_index)\n",
    "        print('-'*50)\n",
    "        rand_index_mapped = changed_elements.get(rand_index,rand_index)\n",
    "        print(rand_index_mapped)\n",
    "        print('-'*50)\n",
    "        i_mapped = changed_elements.get(i,i)\n",
    "        print(i_mapped)\n",
    "        print('-'*50)\n",
    "        changed_elements[rand_index],changed_elements[i] = i_mapped, rand_index_mapped\n",
    "        print(changed_elements[rand_index],changed_elements[i])\n",
    "        print('-'*50)\n",
    "        print(changed_elements)\n",
    "    return [changed_elements[i] for i in range(k)]\n",
    "random_subset(5,3)"
   ]
  },
  {
   "cell_type": "code",
   "execution_count": 63,
   "metadata": {},
   "outputs": [
    {
     "name": "stdout",
     "output_type": "stream",
     "text": [
      "3\n",
      "{0: 1, 1: 3}\n"
     ]
    }
   ],
   "source": [
    "a ={0:1,1:3}\n",
    "[a[i] for i in range(2)]\n",
    "print(a.get(3,3))\n",
    "print(a)"
   ]
  },
  {
   "cell_type": "code",
   "execution_count": 69,
   "metadata": {},
   "outputs": [
    {
     "name": "stdout",
     "output_type": "stream",
     "text": [
      "[0.5, 0.8333333333333333, 0.9444444444444444, 1.0]\n",
      "0\n"
     ]
    },
    {
     "data": {
      "text/plain": [
       "3"
      ]
     },
     "execution_count": 69,
     "metadata": {},
     "output_type": "execute_result"
    }
   ],
   "source": [
    "# generate nonuniform random numbers\n",
    "import bisect\n",
    "def nonuniform_random_number_generation(values,probabilities):\n",
    "    prefix_sum_probabilities = list(itertools.accumulate(probabilities))\n",
    "    print(prefix_sum_probabilities)\n",
    "    interval_idx = bisect.bisect(prefix_sum_probabilities,random.random())\n",
    "    print(interval_idx)\n",
    "    return values[interval_idx]\n",
    "values = [3,5,7,11]\n",
    "probabilities = [9/18,6/18,2/18,1/18]\n",
    "nonuniform_random_number_generation(values,probabilities)"
   ]
  },
  {
   "cell_type": "code",
   "execution_count": 79,
   "metadata": {},
   "outputs": [
    {
     "data": {
      "text/plain": [
       "True"
      ]
     },
     "execution_count": 79,
     "metadata": {},
     "output_type": "execute_result"
    }
   ],
   "source": [
    "# Check if a partially filled matrix has any conflicts\n",
    "board = [\n",
    "  [\"5\",\"3\",\".\",\".\",\"7\",\".\",\".\",\".\",\".\"],\n",
    "  [\"6\",\".\",\".\",\"1\",\"9\",\"5\",\".\",\".\",\".\"],\n",
    "  [\".\",\"9\",\"8\",\".\",\".\",\".\",\".\",\"6\",\".\"],\n",
    "  [\"8\",\".\",\".\",\".\",\"6\",\".\",\".\",\".\",\"3\"],\n",
    "  [\"4\",\".\",\".\",\"8\",\".\",\"3\",\".\",\".\",\"1\"],\n",
    "  [\"7\",\".\",\".\",\".\",\"2\",\".\",\".\",\".\",\"6\"],\n",
    "  [\".\",\"6\",\".\",\".\",\".\",\".\",\"2\",\"8\",\".\"],\n",
    "  [\".\",\".\",\".\",\"4\",\"1\",\"9\",\".\",\".\",\"5\"],\n",
    "  [\".\",\".\",\".\",\".\",\"8\",\".\",\".\",\"7\",\"9\"]\n",
    "]\n",
    "def check_valid_sudoku( board):\n",
    "    seen = []\n",
    "    for i, row in enumerate(board):\n",
    "        for j, c in enumerate(row):\n",
    "            if c!= '.':\n",
    "                seen += [(i,c),(c,j),(i//3,j//3,c)]\n",
    "    return len(seen) == len(set(seen))\n",
    "check_valid_sudoku(board)"
   ]
  },
  {
   "cell_type": "code",
   "execution_count": 86,
   "metadata": {},
   "outputs": [],
   "source": [
    "# check if a  partially filled matrix has any conflicts.\n",
    "def is_valid_sudoku(partial_assignment):\n",
    "    # return true if subarray\n",
    "    #partial_assignment[start_row:end_row][start_col:end_col] contains any\n",
    "    #duplicates in {1,2,...,len(partial_assignment)}; otherwise return False.\n",
    "    def has_duplicate(block):\n",
    "        block = list(filter(lambda x:x != 0,block))\n",
    "        return len(block) != len(set(block))\n",
    "    n = len(partial_assignment)\n",
    "    #check row and column constrains\n",
    "    if any(has_duplicate([partial_assignment[i][j] for j in range(n)]) or\n",
    "           has_duplicate([partial_assignment[j][i] for j in range(n)])\n",
    "          for i in range(n)):\n",
    "        return False\n",
    "    region_size = int(math.sqrt(n))\n",
    "    return all(not has_duplicate([\n",
    "        partial_assignment[a][b]\n",
    "        for a in range(region_size*I,region_size*(I+1))\n",
    "        for b in range(region_size*J, region_size*(J+1))\n",
    "    ]) for I in range(region_size) for J in range(region_size))\n",
    "    def is_valid_sudoku_pythonic(partial_assignment):\n",
    "        region_size = int(math.sqrt(len(partial_assignment)))\n",
    "        return max(\n",
    "        collections.Counter(k for i, row in enumerate(partial_assignment)\n",
    "                            for j, c in enumerate(row) if c != 0\n",
    "                            for k in ((i, str(c)), (str(c), j),\n",
    "                                      (i / region_size, j / region_size,\n",
    "                                       str(c)))).values(),\n",
    "                                       default=0) <= 1"
   ]
  },
  {
   "cell_type": "code",
   "execution_count": 93,
   "metadata": {},
   "outputs": [
    {
     "data": {
      "text/plain": [
       "[1, 2, 3, 6, 9, 8, 7, 4, 5]"
      ]
     },
     "execution_count": 93,
     "metadata": {},
     "output_type": "execute_result"
    }
   ],
   "source": [
    "# compute the spiral ordering of a 2D array\n",
    "def matrix_spiral_compute(matrix):\n",
    "    ans = []\n",
    "    up,left = 0,0\n",
    "    right,down = len(matrix[0])-1,len(matrix)-1\n",
    "    direction = 0\n",
    "    while up <= down and left <= right:\n",
    "        if direction == 0:\n",
    "            for i in range(left, right+1):\n",
    "                ans.append(matrix[up][i])\n",
    "            up += 1\n",
    "        elif direction == 1:\n",
    "            for i in range(up, down +1):\n",
    "                ans.append(matrix[i][right])\n",
    "            right -=1\n",
    "        elif direction == 2:\n",
    "            for i in range(left,right+1)[::-1]:\n",
    "                ans.append(matrix[down][i])\n",
    "            down -= 1\n",
    "        else:\n",
    "            for i in range(up,down+1):\n",
    "                ans.append(matrix[i][left])\n",
    "            left += 1\n",
    "        direction = (direction+1)%4\n",
    "    return ans\n",
    "matrix = [\n",
    " [ 1, 2, 3 ],\n",
    " [ 4, 5, 6 ],\n",
    " [ 7, 8, 9 ]\n",
    "]\n",
    "matrix_spiral_compute(matrix)"
   ]
  },
  {
   "cell_type": "code",
   "execution_count": 96,
   "metadata": {},
   "outputs": [
    {
     "data": {
      "text/plain": [
       "[1, 2, 3, 6, 9, 8, 7, 4, 5]"
      ]
     },
     "execution_count": 96,
     "metadata": {},
     "output_type": "execute_result"
    }
   ],
   "source": [
    "# matrix_in_spiral_order(square_matrix)\n",
    "def matrix_in_spiral_order(square_matrix):\n",
    "    SHIFT = ((0,1),(1,0),(0,-1),(-1,0))\n",
    "    direction = x = y = 0\n",
    "    spiral_ordering = []\n",
    "    for _ in range(len(square_matrix)**2):\n",
    "        spiral_ordering.append(square_matrix[x][y])\n",
    "        square_matrix[x][y] = 0\n",
    "        next_x, next_y = x + SHIFT[direction][0],y + SHIFT[direction][1]\n",
    "        if (next_x not in range(len(square_matrix))\n",
    "           or next_y not in range(len(square_matrix))\n",
    "           or square_matrix[next_x][next_y] == 0):\n",
    "            direction = (direction+1)%4\n",
    "            next_x, next_y = x + SHIFT[direction][0], y + SHIFT[direction][1]\n",
    "        x,y = next_x, next_y\n",
    "    return spiral_ordering\n",
    "matrix = [\n",
    " [ 1, 2, 3 ],\n",
    " [ 4, 5, 6 ],\n",
    " [ 7, 8, 9 ]\n",
    "]\n",
    "matrix_in_spiral_order(matrix)"
   ]
  },
  {
   "cell_type": "code",
   "execution_count": 111,
   "metadata": {},
   "outputs": [
    {
     "data": {
      "text/plain": [
       "[1, 2, 3, 6, 9, 8, 7, 4, 5]"
      ]
     },
     "execution_count": 111,
     "metadata": {},
     "output_type": "execute_result"
    }
   ],
   "source": [
    "square_matrix = [\n",
    " [ 1, 2, 3 ],\n",
    " [ 4, 5, 6 ],\n",
    " [ 7, 8, 9 ]\n",
    "]\n",
    "def spiral_matrix(matrix):\n",
    "    SHIFT = ((0,1),(1,0),(0,-1),(-1,0))\n",
    "    direction = x = y = 0\n",
    "    res = []\n",
    "    for _ in range(len(matrix)**2):\n",
    "        res.append(matrix[x][y])\n",
    "        matrix[x][y] = 0\n",
    "        next_x, next_y = x + SHIFT[direction][0], y + SHIFT[direction][1]\n",
    "        if (next_x not in range(len(matrix)) or next_y not in range(len(matrix)) or matrix[next_x][next_y] == 0):\n",
    "            direction = (direction+1)%4\n",
    "            next_x, next_y = x + SHIFT[direction][0], y + SHIFT[direction][1]\n",
    "        x,y  = next_x,next_y\n",
    "    return res\n",
    "spiral_matrix(square_matrix)\n"
   ]
  },
  {
   "cell_type": "code",
   "execution_count": 14,
   "metadata": {},
   "outputs": [
    {
     "data": {
      "text/plain": [
       "7"
      ]
     },
     "execution_count": 14,
     "metadata": {},
     "output_type": "execute_result"
    }
   ],
   "source": [
    "# find ktn element in spiral matrix using O(1) time in 2D array\n",
    "import numpy as np\n",
    "def findK(A,m,n,k):\n",
    "    A = np.asarray(A)\n",
    "    if (n<1) or (m<1):\n",
    "        return -1\n",
    "    elif(k <= m): \n",
    "        return A[0][k-1]\n",
    "    \n",
    "\n",
    "    #/* Element is in last column */\n",
    "    elif ( k <= (m+n-1)): \n",
    "        return A[(k-m)][m-1] \n",
    "\n",
    "    #/* Element is in last row */\n",
    "    elif (k <= (m+n-1+m-1)):\n",
    "        return A[n-1][m-1-(k-(m+n-1))] \n",
    "\n",
    "    #/* Element is in first column */\n",
    "    elif (k <= (m+n-1+m-1+n-2)): \n",
    "        return A[n-1-(k-(m+n-1+m-1))][0]\n",
    "\n",
    "    #/*..........If element is NOT in outermost ring .......*/\n",
    "    #/* Recursion for sub-matrix. &A[1][1] is \n",
    "    #address to next inside sub matrix.*/\n",
    "    else:\n",
    "        \n",
    "        return findK(A[1:m,1:n], n-2, m-2, k-(2*n+2*m-4)) \n",
    "    \n",
    "A = [\n",
    " [ 1, 2, 3,10],\n",
    " [ 4, 5, 6 ,11],\n",
    " [ 7, 8, 9 ,12]\n",
    "]\n",
    "m = len(A[0]) # row\n",
    "n = len(A) # column   \n",
    "\n",
    "\n",
    "findK(A,m,n,9)\n",
    "#type(k-(2*n+2*m-4)-1)"
   ]
  },
  {
   "cell_type": "code",
   "execution_count": 94,
   "metadata": {},
   "outputs": [
    {
     "data": {
      "text/plain": [
       "[5, 6, 7, 1, 2, 3, 4]"
      ]
     },
     "execution_count": 94,
     "metadata": {},
     "output_type": "execute_result"
    }
   ],
   "source": [
    "# rotate an array\n",
    "A  = [1,2,3,4,5,6,7]\n",
    "def rotate_array(A,k):\n",
    "    k, start, n = k%len(A), 0, len(A)\n",
    "    while k>0 and k%n != 0:\n",
    "        for i in range(k):\n",
    "            A[start+i],A[len(A)-k+i] = A[len(A)-k+i],A[start + i]\n",
    "        start = start+k\n",
    "        n = n-k\n",
    "        k = k%n\n",
    "    return A\n",
    "rotate_array(A,3)"
   ]
  },
  {
   "cell_type": "code",
   "execution_count": 48,
   "metadata": {},
   "outputs": [
    {
     "data": {
      "text/plain": [
       "[[13, 9, 5, 1], [14, 10, 6, 2], [15, 11, 7, 3], [16, 12, 8, 4]]"
      ]
     },
     "execution_count": 48,
     "metadata": {},
     "output_type": "execute_result"
    }
   ],
   "source": [
    "# Rotate a 2D array\n",
    "A = [\n",
    " [ 1, 2, 3,4],\n",
    " [ 5, 6, 7 ,8],\n",
    " [ 9, 10,11,12],\n",
    " [13,14,15,16]\n",
    "]\n",
    "B= [\n",
    "    [1,2,3],\n",
    "    [4,5,6],\n",
    "    [7,8,9]\n",
    "]\n",
    "# print(len(B)//2)\n",
    "def rotate_matrix(square_matrix):\n",
    "    matrix_size = len(square_matrix)-1\n",
    "    for i in range(len(square_matrix)//2): # 从外面开始rotate 一圈一圈\n",
    "        \n",
    "        for j in range(i,matrix_size-i):\n",
    "#             print(square_matrix[~j][i])\n",
    "#             print(square_matrix[i][j])\n",
    "#             print(square_matrix[~i][~j])\n",
    "#             print(square_matrix[j][~i])\n",
    "            \n",
    "        # perform a 4-way exchange. Note that A[~i] for i in [0,len(A)-1] is A[-(i+1)]\n",
    "            (square_matrix[i][j],square_matrix[~j][i],square_matrix[~i][~j]\n",
    "             ,square_matrix[j][~i]) = (square_matrix[~j][i],\n",
    "                    square_matrix[~i][~j],\n",
    "                  square_matrix[j][~i],\n",
    "                  square_matrix[i][j])\n",
    "    return square_matrix\n",
    "rotate_matrix(A)\n"
   ]
  },
  {
   "cell_type": "code",
   "execution_count": 49,
   "metadata": {},
   "outputs": [
    {
     "data": {
      "text/plain": [
       "[[13, 9, 5, 1], [14, 10, 6, 2], [15, 11, 7, 3], [16, 12, 8, 4]]"
      ]
     },
     "execution_count": 49,
     "metadata": {},
     "output_type": "execute_result"
    }
   ],
   "source": [
    "A = [\n",
    " [ 1, 2, 3,4],\n",
    " [ 5, 6, 7 ,8],\n",
    " [ 9, 10,11,12],\n",
    " [13,14,15,16]\n",
    "]\n",
    "def rotate_matrix(matrix):\n",
    "    for i in range(len(matrix)//2):\n",
    "        for j in range(i, (len(matrix)-1)-i):\n",
    "            (matrix[i][j],matrix[~j][i],matrix[~i][~j],matrix[j][~i])= (matrix[~j][i],matrix[~i][~j],matrix[j][~i],matrix[i][j])\n",
    "    return matrix\n",
    "rotate_matrix(A)"
   ]
  },
  {
   "cell_type": "code",
   "execution_count": 64,
   "metadata": {},
   "outputs": [
    {
     "data": {
      "text/plain": [
       "[[1], [1, 1], [1, 2, 1], [1, 3, 3, 1], [1, 4, 6, 4, 1]]"
      ]
     },
     "execution_count": 64,
     "metadata": {},
     "output_type": "execute_result"
    }
   ],
   "source": [
    "# compute rows in pascal's triangle\n",
    "def generate_pascal_triangel(n):\n",
    "    result = [[1]*(i+1) for i in range(n)]\n",
    "    for i in range(n):\n",
    "        for j in range(1,i):\n",
    "            result[i][j] = result[i-1][j-1]+result[i-1][j]\n",
    "    return result\n",
    "generate_pascal_triangel(5)"
   ]
  },
  {
   "cell_type": "code",
   "execution_count": 93,
   "metadata": {},
   "outputs": [
    {
     "name": "stdout",
     "output_type": "stream",
     "text": [
      "1\n",
      "11\n",
      "121\n",
      "1331\n",
      "14641\n"
     ]
    }
   ],
   "source": [
    "# Python3 program for Pascal’s Triangle\n",
    "# A O(n^2) time and O(1) extra\n",
    "# space method for Pascal’s Triangle\n",
    "\n",
    "# Pascal function\n",
    "def printPascal(n):\n",
    "    \n",
    "    for line in range(1, n + 1):\n",
    "        C = 1; # used to represent C(line, i)\n",
    "        for i in range(1, line + 1):\n",
    "\n",
    "    # The first value in a\n",
    "    # line is always 1\n",
    "            \n",
    "            print(C, end = '');\n",
    "            C = int(C * (line - i) / i);\n",
    "        print('')\n",
    "    \n",
    "\n",
    "\n",
    "\n",
    "# Driver code\n",
    "n = 5;\n",
    "printPascal(n)"
   ]
  },
  {
   "cell_type": "code",
   "execution_count": 90,
   "metadata": {},
   "outputs": [
    {
     "name": "stdout",
     "output_type": "stream",
     "text": [
      "[[], [], [], [], []]\n"
     ]
    }
   ],
   "source": [
    "n = 5\n",
    "ans = [[] for i in range(n)]\n",
    "print(ans)\n",
    "# res =  [ [ ] for j in range(n) ]\n",
    "# for line in range(1,n):\n",
    "#     for j in range(0,line+1):\n",
    "#         if i == i or j == 0:\n",
    "#             res[i][j] = 1\n",
    "#         else:\n",
    "#             res[i][j] = res[i-1][j-1]+res[i-1][j]\n",
    "# print(res)\n",
    "#     // Iterate through every line and  \n",
    "#     // print integer(s) in it \n",
    "#     for (int line = 0; line < n; line++) \n",
    "#     { \n",
    "#         // Every line has number of integers  \n",
    "#         // equal to line number \n",
    "#         for (int i = 0; i <= line; i++) \n",
    "#         { \n",
    "#         // First and last values in every row are 1 \n",
    "#         if (line == i || i == 0) \n",
    "#             arr[line][i] = 1; \n",
    "#         // Other values are sum of values just  \n",
    "#         // above and left of above \n",
    "#         else\n",
    "#             arr[line][i] = arr[line - 1][i - 1] +  \n",
    "#                             arr[line - 1][i]; \n"
   ]
  },
  {
   "cell_type": "code",
   "execution_count": 105,
   "metadata": {},
   "outputs": [
    {
     "data": {
      "text/plain": [
       "[2, 3, 3, 4, 6, 9, 13, 23, 42]"
      ]
     },
     "execution_count": 105,
     "metadata": {},
     "output_type": "execute_result"
    }
   ],
   "source": [
    "# merge sort \n",
    "nums = [3,42,23,6,9,13,2,3,4]\n",
    "def merge_sort(nums):\n",
    "    \n",
    "    if len(nums)>1:\n",
    "        mid = len(nums)//2\n",
    "        l =nums[:mid]\n",
    "        r = nums[mid:]\n",
    "        merge_sort(l)\n",
    "        merge_sort(r)\n",
    "        i,k,j  = 0,0,0\n",
    "        while i < len(l) and j < len(r):\n",
    "            if l[i] < r[j]:\n",
    "                nums[k] = l[i]\n",
    "                i += 1\n",
    "            else:\n",
    "                nums[k] = r[j]\n",
    "                j += 1\n",
    "            k += 1\n",
    "        while i < len(l):\n",
    "            nums[k] = l[i]\n",
    "            i+=1 \n",
    "            k+=1\n",
    "        while j < len(r):\n",
    "            nums[k] = r[j]\n",
    "            j += 1\n",
    "            k += 1\n",
    "    return nums\n",
    "merge_sort(nums)\n",
    "                \n",
    "                "
   ]
  },
  {
   "cell_type": "code",
   "execution_count": 100,
   "metadata": {},
   "outputs": [
    {
     "data": {
      "text/plain": [
       "[1, 2, 3, 4, 6, 9, 13, 23, 42]"
      ]
     },
     "execution_count": 100,
     "metadata": {},
     "output_type": "execute_result"
    }
   ],
   "source": [
    "# insertion sort\n",
    "nums = [1,42,23,6,9,13,2,3,4]\n",
    "def insertion_sort(nums):\n",
    "    i = 1\n",
    "    while i < len(nums):\n",
    "        j = i\n",
    "        while j>0 and nums[j]<nums[j-1]:\n",
    "            nums[j-1],nums[j] = nums[j],nums[j-1]\n",
    "            j -= 1\n",
    "        i += 1\n",
    "    return nums\n",
    "insertion_sort(nums)\n",
    "    \n",
    "        "
   ]
  },
  {
   "cell_type": "code",
   "execution_count": 103,
   "metadata": {},
   "outputs": [
    {
     "data": {
      "text/plain": [
       "[2, 3, 4, 6, 9, 9, 13, 23, 42]"
      ]
     },
     "execution_count": 103,
     "metadata": {},
     "output_type": "execute_result"
    }
   ],
   "source": [
    "# selection sort\n",
    "nums = [9,42,23,6,9,13,2,3,4]\n",
    "def selection_sort(nums):\n",
    "    for i in range(len(nums)):\n",
    "        for j in range(i,len(nums)):\n",
    "            if nums[i] > nums[j]:\n",
    "                nums[i],nums[j] = nums[j],nums[i]\n",
    "    return nums\n",
    "selection_sort(nums)"
   ]
  }
 ],
 "metadata": {
  "kernelspec": {
   "display_name": "Python 3",
   "language": "python",
   "name": "python3"
  },
  "language_info": {
   "codemirror_mode": {
    "name": "ipython",
    "version": 3
   },
   "file_extension": ".py",
   "mimetype": "text/x-python",
   "name": "python",
   "nbconvert_exporter": "python",
   "pygments_lexer": "ipython3",
   "version": "3.6.5"
  }
 },
 "nbformat": 4,
 "nbformat_minor": 2
}
