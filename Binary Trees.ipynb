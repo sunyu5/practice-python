{
 "cells": [
  {
   "cell_type": "code",
   "execution_count": 16,
   "metadata": {},
   "outputs": [
    {
     "data": {
      "text/plain": [
       "False"
      ]
     },
     "execution_count": 16,
     "metadata": {},
     "output_type": "execute_result"
    }
   ],
   "source": [
    "# binary tree\n",
    "# often the node stores additional data. Its prototype is listed as follows:\n",
    "import collections\n",
    "class BinaryTreeNode:\n",
    "    def __init__(self,data = None, left = None, right = None):\n",
    "        self.data = data\n",
    "        self.left = left\n",
    "        self.right = right\n",
    "    def tree_traversal(root):\n",
    "        if root:\n",
    "            # preorder: processes the root before the traversals of left and right children.\n",
    "            print('Preorder:%d' % root.data)\n",
    "            tree_traversal(root.left)\n",
    "            #Inorder: Processes the root after the traversal of left child and before the traversal of right child\n",
    "            print('Inorder:%d' % root.data)\n",
    "            tree_traversal(root.right)\n",
    "            #Postorder: Processes the root after the traversals of left adn right child\n",
    "            print('Postorder:%d' % root.data)\n",
    "def is_balanced_tree(tree):\n",
    "    binary_tree_status =collections.namedtuple('binary_tree_status',('balanced','height'))\n",
    "    def check_balanced(tree):\n",
    "        if not tree:\n",
    "            return binary_tree_status(True,-1)\n",
    "        leftresult = check_balanced(tree.left)\n",
    "        if not leftresult.balanced:\n",
    "            return binary_tree_status(False,0)\n",
    "        rightresult = check_balanced(tree.right)\n",
    "        if not rightresult.balanced:\n",
    "            return binary_tree_status(False,0)\n",
    "        is_balance = abs(leftresult.height - rightresult.height) <= 1\n",
    "        height = max(leftresult.height, rightresult.height) + 1\n",
    "        return binary_tree_status(is_balance,height)\n",
    "    return check_balanced(tree).balanced\n",
    "BinaryTreeNode\n",
    "root = BinaryTreeNode(1) \n",
    "root.left = BinaryTreeNode(2) \n",
    "root.right = BinaryTreeNode(3) \n",
    "root.left.left = BinaryTreeNode(4) \n",
    "root.left.right = BinaryTreeNode(5) \n",
    "root.left.left.left = BinaryTreeNode(8) \n",
    "is_balanced_tree(root)\n",
    "\n",
    "  "
   ]
  },
  {
   "cell_type": "code",
   "execution_count": 3,
   "metadata": {},
   "outputs": [
    {
     "data": {
      "text/plain": [
       "True"
      ]
     },
     "execution_count": 3,
     "metadata": {},
     "output_type": "execute_result"
    }
   ],
   "source": [
    "import collections\n",
    "class BinaryTreeNode:\n",
    "    def __init__(self,data = None, left = None, right = None):\n",
    "        self.data = data\n",
    "        self.left = left\n",
    "        self.right = right\n",
    "def is_balanced(tree):\n",
    "    binary_tree_status = collections.namedtuple('binary_tree_status',('balanced','height'))\n",
    "    def checked_balanced(tree):\n",
    "        if not tree:\n",
    "            return binary_tree_status(True,-1)\n",
    "        leftresult = checked_balanced(tree.left)\n",
    "        if not leftresult.balanced:\n",
    "            return binary_tree_status(False,0)\n",
    "        rightresult = checked_balanced(tree.right)\n",
    "        if not rightresult.balanced:\n",
    "            return binary_tree_status(False,0)\n",
    "        is_balance = abs(leftresult.height-rightresult.height) <=1\n",
    "        height = max(leftresult.height, rightresult.height)\n",
    "        return binary_tree_status(is_balance,height)\n",
    "    return checked_balanced(tree).balanced\n",
    "            \n",
    "root = BinaryTreeNode(1) \n",
    "root.left = BinaryTreeNode(2) \n",
    "root.right = BinaryTreeNode(3) \n",
    "root.left.left = BinaryTreeNode(4) \n",
    "root.left.right = BinaryTreeNode(5) \n",
    "root.left.left.left = BinaryTreeNode(8) \n",
    "root.right.left = BinaryTreeNode(5)\n",
    "is_balanced(root)"
   ]
  },
  {
   "cell_type": "code",
   "execution_count": 6,
   "metadata": {},
   "outputs": [
    {
     "data": {
      "text/plain": [
       "True"
      ]
     },
     "execution_count": 6,
     "metadata": {},
     "output_type": "execute_result"
    }
   ],
   "source": [
    "# Test if a binary tree is symmetric\n",
    "class BinaryTreeNode:\n",
    "    def __init__(self,data = None, left = None, right = None):\n",
    "        self.data = data\n",
    "        self.left = left\n",
    "        self.right = right\n",
    "def test_btree_symmetric(tree):\n",
    "    def check_symmetric(tree1,tree2):\n",
    "        if not tree1 and not tree2:\n",
    "            return True\n",
    "        elif tree1 and tree2:\n",
    "            return (tree1.data == tree2.data and check_symmetric(tree1.left,tree2.right) and check_symmetric(tree1.right,tree2.left))\n",
    "        return False\n",
    "    return not tree or check_symmetric(tree.left,tree.right)\n",
    "root = BinaryTreeNode(1) \n",
    "root.left = BinaryTreeNode(2) \n",
    "root.right = BinaryTreeNode(2) \n",
    "root.left.left = BinaryTreeNode(3) \n",
    "root.left.right = BinaryTreeNode(4) \n",
    "root.right.right = BinaryTreeNode(3) \n",
    "root.right.left = BinaryTreeNode(4)\n",
    "test_btree_symmetric(root)\n",
    "        "
   ]
  },
  {
   "cell_type": "code",
   "execution_count": 48,
   "metadata": {},
   "outputs": [
    {
     "ename": "AttributeError",
     "evalue": "'Node' object has no attribute 'count'",
     "output_type": "error",
     "traceback": [
      "\u001b[0;31m---------------------------------------------------------------------------\u001b[0m",
      "\u001b[0;31mAttributeError\u001b[0m                            Traceback (most recent call last)",
      "\u001b[0;32m<ipython-input-48-7e751caedc4b>\u001b[0m in \u001b[0;36m<module>\u001b[0;34m()\u001b[0m\n\u001b[1;32m     40\u001b[0m \u001b[0mroot\u001b[0m\u001b[0;34m.\u001b[0m\u001b[0mright\u001b[0m\u001b[0;34m.\u001b[0m\u001b[0mleft\u001b[0m \u001b[0;34m=\u001b[0m \u001b[0mNode\u001b[0m\u001b[0;34m(\u001b[0m\u001b[0;36m6\u001b[0m\u001b[0;34m)\u001b[0m\u001b[0;34m\u001b[0m\u001b[0m\n\u001b[1;32m     41\u001b[0m \u001b[0mroot\u001b[0m\u001b[0;34m.\u001b[0m\u001b[0mright\u001b[0m\u001b[0;34m.\u001b[0m\u001b[0mright\u001b[0m \u001b[0;34m=\u001b[0m \u001b[0mNode\u001b[0m\u001b[0;34m(\u001b[0m\u001b[0;36m7\u001b[0m\u001b[0;34m)\u001b[0m\u001b[0;34m\u001b[0m\u001b[0m\n\u001b[0;32m---> 42\u001b[0;31m \u001b[0ma\u001b[0m\u001b[0;34m.\u001b[0m\u001b[0mcount\u001b[0m\u001b[0;34m(\u001b[0m\u001b[0mroot\u001b[0m\u001b[0;34m)\u001b[0m\u001b[0;34m\u001b[0m\u001b[0m\n\u001b[0m\u001b[1;32m     43\u001b[0m \u001b[0;31m# print \"LCA(4, 6) = %d\" %(findLCA(root, 4, 6))\u001b[0m\u001b[0;34m\u001b[0m\u001b[0;34m\u001b[0m\u001b[0m\n\u001b[1;32m     44\u001b[0m \u001b[0;31m# print \"LCA(3, 4) = %d\" %(findLCA(root,3,4))\u001b[0m\u001b[0;34m\u001b[0m\u001b[0;34m\u001b[0m\u001b[0m\n",
      "\u001b[0;31mAttributeError\u001b[0m: 'Node' object has no attribute 'count'"
     ]
    }
   ],
   "source": [
    "# compute the lowest common ancestor in a binary tree (it doesnt work)\n",
    "class Node: \n",
    "    # Constructor to create a new binary node \n",
    "    def __init__(self, key): \n",
    "        self.key =  key \n",
    "        self.left = None\n",
    "        self.right = None\n",
    "def lca(tree, node0, node1):\n",
    "\n",
    "    Status = collections.namedtuple('Status', ('num_target_nodes', 'ancestor'))\n",
    "\n",
    "    # Returns an object consisting of an int and a node. The int field is 0,\n",
    "    # 1, or 2 depending on how many of {node0, node1} are present in tree. If\n",
    "    # both are present in tree, when ancestor is assigned to a non-null value,\n",
    "    # it is the LCA.\n",
    "    def lca_helper(tree, node0, node1):\n",
    "        if not tree:\n",
    "            return Status(0, None)\n",
    "\n",
    "        left_result = lca_helper(tree.left, node0, node1)\n",
    "        if left_result.num_target_nodes == 2:\n",
    "            # Found both nodes in the left subtree.\n",
    "            return left_result\n",
    "        right_result = lca_helper(tree.right, node0, node1)\n",
    "        if right_result.num_target_nodes == 2:\n",
    "            # Found both nodes in the right subtree.\n",
    "            return right_result\n",
    "        num_target_nodes = (\n",
    "            left_result.num_target_nodes + right_result.num_target_nodes +\n",
    "            (node0, node1).count(tree))\n",
    "        return Status(num_target_nodes, tree\n",
    "                      if num_target_nodes == 2 else None)\n",
    "\n",
    "    return lca_helper(tree, node0, node1).ancestor\n",
    "root = Node(1) \n",
    "root.left = Node(2) \n",
    "root.right = Node(3) \n",
    "root.left.left = Node(4) \n",
    "root.left.right = Node(5) \n",
    "root.right.left = Node(6) \n",
    "root.right.right = Node(7) \n",
    "\n",
    "# print \"LCA(4, 6) = %d\" %(findLCA(root, 4, 6)) \n",
    "# print \"LCA(3, 4) = %d\" %(findLCA(root,3,4)) \n",
    "# print \"LCA(2, 4) = %d\" %(findLCA(root,2, 4)) \n",
    "\n"
   ]
  },
  {
   "cell_type": "code",
   "execution_count": 30,
   "metadata": {},
   "outputs": [
    {
     "name": "stdout",
     "output_type": "stream",
     "text": [
      "LCA(4,5) =  1\n",
      "LCA(4,6) =  1\n",
      "LCA(3,4) =  1\n",
      "LCA(2,4) =  2\n"
     ]
    }
   ],
   "source": [
    "# find LCA greeksforgreeks\n",
    "class Node: \n",
    "    # Constructor to create a new binary node \n",
    "    def __init__(self, key): \n",
    "        self.key =  key \n",
    "        self.left = None\n",
    "        self.right = None\n",
    "def LCA(root, node1, node2):\n",
    "    if root is None:\n",
    "        return None\n",
    "    if root.key == node1 or root.key == node2:\n",
    "        return root\n",
    "    leftresult = LCA(root.left,node1, node2)\n",
    "    rightresult = LCA(root.right, node1, node2)\n",
    "    if leftresult and rightresult:\n",
    "        return root\n",
    "    return leftresult if leftresult is not None else rightresult\n",
    "root = Node(1) \n",
    "root.left = Node(2) \n",
    "root.right = Node(3) \n",
    "root.left.left = Node(4) \n",
    "root.left.right = Node(5) \n",
    "root.right.left = Node(6) \n",
    "root.right.right = Node(7) \n",
    "print (\"LCA(4,5) = \", LCA(root, 5, 6).key )\n",
    "print (\"LCA(4,6) = \", LCA(root, 4, 6).key) \n",
    "print (\"LCA(3,4) = \", LCA(root, 3, 4).key) \n",
    "print (\"LCA(2,4) = \", LCA(root, 2, 4).key)\n",
    "  "
   ]
  },
  {
   "cell_type": "code",
   "execution_count": 33,
   "metadata": {},
   "outputs": [
    {
     "name": "stdout",
     "output_type": "stream",
     "text": [
      "LCA(4,5) =  1\n",
      "LCA(4,6) =  1\n",
      "LCA(3,4) =  1\n",
      "LCA(2,4) =  2\n"
     ]
    }
   ],
   "source": [
    "def lca(root, n1,n2):\n",
    "    if root is None:\n",
    "        return None\n",
    "    if root.key == n1 or root.key == n2:\n",
    "        return root\n",
    "    left = lca(root.left, n1, n2)\n",
    "    right = lca(root.right, n1, n2)\n",
    "    if left and right:\n",
    "        return root\n",
    "    return left if left is not None else right\n",
    "root = Node(1) \n",
    "root.left = Node(2) \n",
    "root.right = Node(3) \n",
    "root.left.left = Node(4) \n",
    "root.left.right = Node(5) \n",
    "root.right.left = Node(6) \n",
    "root.right.right = Node(7) \n",
    "print (\"LCA(4,5) = \", LCA(root, 5, 6).key )\n",
    "print (\"LCA(4,6) = \", LCA(root, 4, 6).key) \n",
    "print (\"LCA(3,4) = \", LCA(root, 3, 4).key) \n",
    "print (\"LCA(2,4) = \", LCA(root, 2, 4).key)"
   ]
  },
  {
   "cell_type": "code",
   "execution_count": 50,
   "metadata": {},
   "outputs": [
    {
     "name": "stdout",
     "output_type": "stream",
     "text": [
      "LCA(4,5) =  1\n",
      "LCA(4,6) =  1\n",
      "LCA(3,4) =  1\n",
      "LCA(2,4) =  2\n"
     ]
    }
   ],
   "source": [
    "class Node: \n",
    "    # Constructor to create a new binary node \n",
    "    def __init__(self, key): \n",
    "        self.key =  key \n",
    "        self.left = None\n",
    "        self.right = None\n",
    "        self.parent = None\n",
    "def lca(node0, node1):\n",
    "    def get_depth(node):\n",
    "        depth = 0\n",
    "        while node:\n",
    "            depth += 1\n",
    "            node = node.parent\n",
    "        return depth\n",
    "\n",
    "    depth0, depth1 = map(get_depth, (node0, node1))\n",
    "    # Makes node0 as the deeper node in order to simplify the code.\n",
    "    if depth1 > depth0:\n",
    "        node0, node1 = node1, node0\n",
    "\n",
    "    # Ascends from the deeper node.\n",
    "    depth_diff = abs(depth0 - depth1)\n",
    "    while depth_diff:\n",
    "        node0 = node0.parent\n",
    "        depth_diff -= 1\n",
    "\n",
    "    # Now ascends both nodes until we reach the LCA.\n",
    "    while node0 is not node1:\n",
    "        node0, node1 = node0.parent, node1.parent\n",
    "    return node0\n",
    "root = Node(1) \n",
    "root.left = Node(2) \n",
    "root.right = Node(3) \n",
    "root.left.left = Node(4) \n",
    "root.left.right = Node(5) \n",
    "root.right.left = Node(6) \n",
    "root.right.right = Node(7) \n",
    "print (\"LCA(4,5) = \", LCA(root, 5, 6).key )\n",
    "print (\"LCA(4,6) = \", LCA(root, 4, 6).key) \n",
    "print (\"LCA(3,4) = \", LCA(root, 3, 4).key) \n",
    "print (\"LCA(2,4) = \", LCA(root, 2, 4).key)"
   ]
  },
  {
   "cell_type": "code",
   "execution_count": 20,
   "metadata": {},
   "outputs": [
    {
     "ename": "AttributeError",
     "evalue": "'Tree' object has no attribute 'data'",
     "output_type": "error",
     "traceback": [
      "\u001b[0;31m---------------------------------------------------------------------------\u001b[0m",
      "\u001b[0;31mAttributeError\u001b[0m                            Traceback (most recent call last)",
      "\u001b[0;32m<ipython-input-20-68289dd585ed>\u001b[0m in \u001b[0;36m<module>\u001b[0;34m()\u001b[0m\n\u001b[1;32m     90\u001b[0m \u001b[0mtree\u001b[0m\u001b[0;34m.\u001b[0m\u001b[0maddNode\u001b[0m\u001b[0;34m(\u001b[0m\u001b[0;36m5\u001b[0m\u001b[0;34m)\u001b[0m\u001b[0;34m\u001b[0m\u001b[0m\n\u001b[1;32m     91\u001b[0m \u001b[0;31m#convert_binary_tree_to_binary_tree_with_parent(tree)\u001b[0m\u001b[0;34m\u001b[0m\u001b[0;34m\u001b[0m\u001b[0m\n\u001b[0;32m---> 92\u001b[0;31m \u001b[0mlca\u001b[0m\u001b[0;34m(\u001b[0m\u001b[0mmust_find_node\u001b[0m\u001b[0;34m(\u001b[0m\u001b[0mtree\u001b[0m\u001b[0;34m,\u001b[0m\u001b[0;36m2\u001b[0m\u001b[0;34m)\u001b[0m\u001b[0;34m,\u001b[0m\u001b[0mmust_find_node\u001b[0m\u001b[0;34m(\u001b[0m\u001b[0mtree\u001b[0m\u001b[0;34m,\u001b[0m\u001b[0;36m3\u001b[0m\u001b[0;34m)\u001b[0m\u001b[0;34m)\u001b[0m\u001b[0;34m\u001b[0m\u001b[0m\n\u001b[0m\u001b[1;32m     93\u001b[0m \u001b[0;31m# print (\"LCA(4,6) = \", lca( 4, 6))\u001b[0m\u001b[0;34m\u001b[0m\u001b[0;34m\u001b[0m\u001b[0m\n\u001b[1;32m     94\u001b[0m \u001b[0;31m# print (\"LCA(3,4) = \", lca( 3, 4))\u001b[0m\u001b[0;34m\u001b[0m\u001b[0;34m\u001b[0m\u001b[0m\n",
      "\u001b[0;32m<ipython-input-20-68289dd585ed>\u001b[0m in \u001b[0;36mmust_find_node\u001b[0;34m(tree, val)\u001b[0m\n\u001b[1;32m     43\u001b[0m \u001b[0;34m\u001b[0m\u001b[0m\n\u001b[1;32m     44\u001b[0m \u001b[0;32mdef\u001b[0m \u001b[0mmust_find_node\u001b[0m\u001b[0;34m(\u001b[0m\u001b[0mtree\u001b[0m\u001b[0;34m,\u001b[0m \u001b[0mval\u001b[0m\u001b[0;34m)\u001b[0m\u001b[0;34m:\u001b[0m\u001b[0;34m\u001b[0m\u001b[0m\n\u001b[0;32m---> 45\u001b[0;31m     \u001b[0mresult\u001b[0m \u001b[0;34m=\u001b[0m \u001b[0mfind_node\u001b[0m\u001b[0;34m(\u001b[0m\u001b[0mtree\u001b[0m\u001b[0;34m,\u001b[0m \u001b[0mval\u001b[0m\u001b[0;34m)\u001b[0m\u001b[0;34m\u001b[0m\u001b[0m\n\u001b[0m\u001b[1;32m     46\u001b[0m     \u001b[0;32mif\u001b[0m \u001b[0mresult\u001b[0m \u001b[0;32mis\u001b[0m \u001b[0;32mNone\u001b[0m\u001b[0;34m:\u001b[0m\u001b[0;34m\u001b[0m\u001b[0m\n\u001b[1;32m     47\u001b[0m         \u001b[0;32mraise\u001b[0m \u001b[0mRuntimeError\u001b[0m\u001b[0;34m(\u001b[0m\u001b[0;34m'{} was not found in the tree'\u001b[0m\u001b[0;34m.\u001b[0m\u001b[0mformat\u001b[0m\u001b[0;34m(\u001b[0m\u001b[0mval\u001b[0m\u001b[0;34m)\u001b[0m\u001b[0;34m)\u001b[0m\u001b[0;34m\u001b[0m\u001b[0m\n",
      "\u001b[0;32m<ipython-input-20-68289dd585ed>\u001b[0m in \u001b[0;36mfind_node\u001b[0;34m(tree, val)\u001b[0m\n\u001b[1;32m     27\u001b[0m \u001b[0;32mdef\u001b[0m \u001b[0mfind_node\u001b[0m\u001b[0;34m(\u001b[0m\u001b[0mtree\u001b[0m\u001b[0;34m,\u001b[0m \u001b[0mval\u001b[0m\u001b[0;34m)\u001b[0m\u001b[0;34m:\u001b[0m\u001b[0;34m\u001b[0m\u001b[0m\n\u001b[1;32m     28\u001b[0m     \u001b[0;32mif\u001b[0m \u001b[0mtree\u001b[0m\u001b[0;34m:\u001b[0m\u001b[0;34m\u001b[0m\u001b[0m\n\u001b[0;32m---> 29\u001b[0;31m         \u001b[0;32mif\u001b[0m \u001b[0mtree\u001b[0m\u001b[0;34m.\u001b[0m\u001b[0mdata\u001b[0m \u001b[0;34m==\u001b[0m \u001b[0mval\u001b[0m\u001b[0;34m:\u001b[0m\u001b[0;34m\u001b[0m\u001b[0m\n\u001b[0m\u001b[1;32m     30\u001b[0m             \u001b[0;32mreturn\u001b[0m \u001b[0mtree\u001b[0m\u001b[0;34m\u001b[0m\u001b[0m\n\u001b[1;32m     31\u001b[0m \u001b[0;34m\u001b[0m\u001b[0m\n",
      "\u001b[0;31mAttributeError\u001b[0m: 'Tree' object has no attribute 'data'"
     ]
    }
   ],
   "source": [
    "class TreeNode:\n",
    "    left, right, data = None, None, 0\n",
    "\n",
    "    def __init__(self, data, left = None, right = None, parent = None):\n",
    "        self.data = data\n",
    "        self.left = left\n",
    "        self.right = right\n",
    "        self.parent = self\n",
    "\n",
    "class Tree:\n",
    "    def __init__(self):\n",
    "        self.root = None\n",
    "\n",
    "    def addNode(self, inputData):\n",
    "          return TreeNode(inputData)\n",
    "\n",
    "    def insertNode(self, parent, root, inputData):\n",
    "        if root == None:\n",
    "            return self.addNode(inputData)\n",
    "        else:\n",
    "            root.parent = parent\n",
    "        if inputData <= root.data:\n",
    "            root.left = self.insertNode(root, root.left, inputData)\n",
    "        else:\n",
    "            root.right = self.insertNode(root, root.right, inputData)\n",
    "        return root\n",
    "def find_node(tree, val):\n",
    "    if tree:\n",
    "        if tree.data == val:\n",
    "            return tree\n",
    "\n",
    "        left_result = find_node(tree.left, val)\n",
    "        if left_result:\n",
    "            return left_result\n",
    "\n",
    "        right_result = find_node(tree.right, val)\n",
    "        if right_result:\n",
    "            return right_result\n",
    "        \n",
    "\n",
    "    return None\n",
    "\n",
    "\n",
    "def must_find_node(tree, val):\n",
    "    result = find_node(tree, val)\n",
    "    if result is None:\n",
    "        raise RuntimeError('{} was not found in the tree'.format(val))\n",
    "    return result\n",
    "def lca(node0, node1):\n",
    "    def get_depth(node):\n",
    "        depth = 0\n",
    "        while node:\n",
    "            depth += 1\n",
    "            node = node.parent\n",
    "            \n",
    "        return depth\n",
    "    depth0, depth1 = map(get_depth,(node0, node1))\n",
    "    if node0 < node1:\n",
    "        node0,node1 = node1,node0\n",
    "    diff = abs(node0-node1)\n",
    "    while diff:\n",
    "        node0 = node0.parent\n",
    "        diff -= 1\n",
    "        \n",
    "    while node0 is not node1:\n",
    "        \n",
    "        node0,node1 = node0.parent, node1.parent\n",
    "    return node0\n",
    "def convert_binary_tree_to_binary_tree_with_parent(tree):\n",
    "    def add_parent_link(node, parent):\n",
    "        if not node:\n",
    "            return None\n",
    "        node.parent = parent\n",
    "        add_parent_link(node.left, node)\n",
    "        add_parent_link(node.right, node)\n",
    "\n",
    "    add_parent_link(tree, None)\n",
    "    return tree\n",
    "# root =  TreeNode(1) \n",
    "# root.left =  TreeNode(2) \n",
    "# root.right =  TreeNode(3) \n",
    "# root.left.left =  TreeNode(4) \n",
    "# root.left.right =  TreeNode(5) \n",
    "# root.right.left =  TreeNode(6) \n",
    "# root.right.right =  TreeNode(7)\n",
    "tree = Tree()\n",
    "tree.addNode(3)\n",
    "tree.addNode(2)\n",
    "tree.addNode(4)\n",
    "tree.addNode(5)\n",
    "#convert_binary_tree_to_binary_tree_with_parent(tree)\n",
    "lca(must_find_node(tree,2),must_find_node(tree,3))\n",
    "# print (\"LCA(4,6) = \", lca( 4, 6)) \n",
    "# print (\"LCA(3,4) = \", lca( 3, 4)) \n",
    "# print (\"LCA(2,4) = \", lca( 2, 4))"
   ]
  },
  {
   "cell_type": "code",
   "execution_count": 53,
   "metadata": {},
   "outputs": [
    {
     "data": {
      "text/plain": [
       "58"
      ]
     },
     "execution_count": 53,
     "metadata": {},
     "output_type": "execute_result"
    }
   ],
   "source": [
    "def sum_all(tree, partial_sum = 0):\n",
    "    if not tree:\n",
    "        return 0\n",
    "    partial_sum = partial_sum*2 + tree.key\n",
    "    if not tree.left and not tree.right:\n",
    "        return partial_sum\n",
    "    return (sum_all(tree.left,partial_sum)+sum_all(tree.right, partial_sum))\n",
    "root = Node(1) \n",
    "root.left = Node(2) \n",
    "root.right = Node(3) \n",
    "root.left.left = Node(4) \n",
    "root.left.right = Node(5) \n",
    "root.right.left = Node(6) \n",
    "root.right.right = Node(7) \n",
    "sum_all(root,partial_sum= 0)"
   ]
  },
  {
   "cell_type": "code",
   "execution_count": 26,
   "metadata": {},
   "outputs": [
    {
     "data": {
      "text/plain": [
       "[[7, 4, 1], [8, 5, 2], [9, 6, 3]]"
      ]
     },
     "execution_count": 26,
     "metadata": {},
     "output_type": "execute_result"
    }
   ],
   "source": [
    "def rotated_image(s):\n",
    "    for i in range(len(s)):\n",
    "        for j in range(i, len(s[0])):\n",
    "            s[i][j], s[j][i] = s[j][i], s[i][j]\n",
    "    for i in range(len(s)):\n",
    "        s[i].reverse()\n",
    "    return s\n",
    "matrix = [\n",
    "  [1,2,3],\n",
    "  [4,5,6],\n",
    "  [7,8,9]\n",
    "]\n",
    "rotated_image(matrix)"
   ]
  },
  {
   "cell_type": "code",
   "execution_count": 3,
   "metadata": {},
   "outputs": [
    {
     "data": {
      "text/plain": [
       "True"
      ]
     },
     "execution_count": 3,
     "metadata": {},
     "output_type": "execute_result"
    }
   ],
   "source": [
    "class Node: \n",
    "    # Constructor to create a new binary node \n",
    "    def __init__(self, key): \n",
    "        self.key =  key \n",
    "        self.left = None\n",
    "        self.right = None\n",
    "        \n",
    "def has_path_sum(tree, remaining_weight):\n",
    "    if not tree:\n",
    "        return False\n",
    "    if not tree.left and not tree.right:\n",
    "        return remaining_weight == tree.key\n",
    "    return (has_path_sum(tree.left,remaining_weight- tree.key) or has_path_sum(tree.right, remaining_weight-tree.key))\n",
    "root = Node(1) \n",
    "root.left = Node(2) \n",
    "root.right = Node(3) \n",
    "root.left.left = Node(4) \n",
    "root.left.right = Node(5) \n",
    "root.right.left = Node(6) \n",
    "root.right.right = Node(7) \n",
    "has_path_sum(root, 8)"
   ]
  },
  {
   "cell_type": "code",
   "execution_count": 4,
   "metadata": {},
   "outputs": [
    {
     "data": {
      "text/plain": [
       "True"
      ]
     },
     "execution_count": 4,
     "metadata": {},
     "output_type": "execute_result"
    }
   ],
   "source": [
    "class Node: \n",
    "    # Constructor to create a new binary node \n",
    "    def __init__(self, key): \n",
    "        self.key =  key \n",
    "        self.left = None\n",
    "        self.right = None\n",
    "def has_path(tree, remain):\n",
    "    if not tree:\n",
    "        return False\n",
    "    if not tree.left and not tree.right:\n",
    "        return remain == tree.key\n",
    "    return (has_path(tree.left, remain - tree.key) or has_path(tree.right, remain- tree.key))\n",
    "root = Node(1) \n",
    "root.left = Node(2) \n",
    "root.right = Node(3) \n",
    "root.left.left = Node(4) \n",
    "root.left.right = Node(5) \n",
    "root.right.left = Node(6) \n",
    "root.right.right = Node(7) \n",
    "has_path(root, 8)"
   ]
  },
  {
   "cell_type": "code",
   "execution_count": 5,
   "metadata": {},
   "outputs": [
    {
     "data": {
      "text/plain": [
       "6"
      ]
     },
     "execution_count": 5,
     "metadata": {},
     "output_type": "execute_result"
    }
   ],
   "source": [
    "def larger_sum(arr):\n",
    "    maxcurr, maxsofar = 0,0\n",
    "    if max(arr)<0:\n",
    "        return max(arr)\n",
    "    for n in arr:\n",
    "        maxcurr = maxcurr+n\n",
    "        if maxcurr < 0:\n",
    "            maxcurr = 0\n",
    "        if maxcurr >maxsofar:\n",
    "            maxsofar = maxcurr\n",
    "    return maxsofar\n",
    "larger_sum([-2,1,-3,4,-1,2,1,-5,4])    "
   ]
  },
  {
   "cell_type": "code",
   "execution_count": 10,
   "metadata": {},
   "outputs": [
    {
     "data": {
      "text/plain": [
       "[4, 2, 5, 1, 6, 3, 7]"
      ]
     },
     "execution_count": 10,
     "metadata": {},
     "output_type": "execute_result"
    }
   ],
   "source": [
    "# implement an inorder traversal without recursion(using stack)\n",
    "class Node: \n",
    "    # Constructor to create a new binary node \n",
    "    def __init__(self, data): \n",
    "        self.data =  data \n",
    "        self.left = None\n",
    "        self.right = None\n",
    "def inorder_traversal(tree):\n",
    "    s, result = [],[]\n",
    "    while s or tree:\n",
    "        if tree:\n",
    "            s.append(tree)\n",
    "            tree = tree.left\n",
    "        else:\n",
    "            tree = s.pop()\n",
    "            result.append(tree.data)\n",
    "            tree = tree.right\n",
    "    return result\n",
    "root = Node(1) \n",
    "root.left = Node(2) \n",
    "root.right = Node(3) \n",
    "root.left.left = Node(4) \n",
    "root.left.right = Node(5) \n",
    "root.right.left = Node(6) \n",
    "root.right.right = Node(7) \n",
    "inorder_traversal(root)"
   ]
  },
  {
   "cell_type": "code",
   "execution_count": 18,
   "metadata": {},
   "outputs": [
    {
     "data": {
      "text/plain": [
       "[1, 2, 4, 5, 3, 6, 7]"
      ]
     },
     "execution_count": 18,
     "metadata": {},
     "output_type": "execute_result"
    }
   ],
   "source": [
    "def preorder(tree):\n",
    "    path, result = [tree],[]\n",
    "    while path:\n",
    "        curr = path.pop()\n",
    "        \n",
    "        if curr:\n",
    "            result.append(curr.data)\n",
    "            path += [curr.right,curr.left]\n",
    "    return result\n",
    "\n",
    "root = Node(1) \n",
    "root.left = Node(2) \n",
    "root.right = Node(3) \n",
    "root.left.left = Node(4) \n",
    "root.left.right = Node(5) \n",
    "root.right.left = Node(6) \n",
    "root.right.right = Node(7) \n",
    "preorder(root)"
   ]
  },
  {
   "cell_type": "code",
   "execution_count": 25,
   "metadata": {},
   "outputs": [
    {
     "data": {
      "text/plain": [
       "[4, 5, 2, 6, 7, 3, 1]"
      ]
     },
     "execution_count": 25,
     "metadata": {},
     "output_type": "execute_result"
    }
   ],
   "source": [
    "def peek(s):\n",
    "    if len(s)>0:\n",
    "        return s[-1]\n",
    "    return None\n",
    "def post(tree):\n",
    "    s = []\n",
    "    ans = []\n",
    "    while True:\n",
    "        while tree:\n",
    "            if tree is None: \n",
    "                return \n",
    "            if tree is not None:\n",
    "                s.append(tree.right)\n",
    "            s.append(tree)\n",
    "            tree = tree.left\n",
    "        tree = s.pop()\n",
    "        if tree is not None and peek(s) == tree.right:\n",
    "            s.pop()\n",
    "            s.append(tree)\n",
    "            tree = tree.right\n",
    "        else:\n",
    "            ans.append(tree.data)\n",
    "            tree = None\n",
    "        if len(s) < 1 :\n",
    "            break\n",
    "    \n",
    "    return ans\n",
    "root = Node(1) \n",
    "root.left = Node(2) \n",
    "root.right = Node(3) \n",
    "root.left.left = Node(4) \n",
    "root.left.right = Node(5) \n",
    "root.right.left = Node(6) \n",
    "root.right.right = Node(7) \n",
    "post(root)            "
   ]
  },
  {
   "cell_type": "code",
   "execution_count": 30,
   "metadata": {},
   "outputs": [
    {
     "data": {
      "text/plain": [
       "[1, 2, 4, 5, 3, 6, 7]"
      ]
     },
     "execution_count": 30,
     "metadata": {},
     "output_type": "execute_result"
    }
   ],
   "source": [
    "def preorder(tree):\n",
    "    path, res = [tree],[]\n",
    "    while path:\n",
    "        curr = path.pop()\n",
    "        if curr:\n",
    "            res.append(curr.data)\n",
    "            path += [curr.right, curr.left]\n",
    "    return res\n",
    "root = Node(1) \n",
    "root.left = Node(2) \n",
    "root.right = Node(3) \n",
    "root.left.left = Node(4) \n",
    "root.left.right = Node(5) \n",
    "root.right.left = Node(6) \n",
    "root.right.right = Node(7) \n",
    "preorder(root)"
   ]
  },
  {
   "cell_type": "code",
   "execution_count": 32,
   "metadata": {},
   "outputs": [
    {
     "data": {
      "text/plain": [
       "[4, 2, 5, 1, 6, 3, 7]"
      ]
     },
     "execution_count": 32,
     "metadata": {},
     "output_type": "execute_result"
    }
   ],
   "source": [
    "def inorder_second(tree):\n",
    "    s, res = [], []\n",
    "    while s or tree:\n",
    "        if tree:\n",
    "            s.append(tree)\n",
    "            tree = tree.left\n",
    "        else:\n",
    "            tree = s.pop()\n",
    "            res.append(tree.data)\n",
    "            tree = tree.right\n",
    "    return res\n",
    "root = Node(1) \n",
    "root.left = Node(2) \n",
    "root.right = Node(3) \n",
    "root.left.left = Node(4) \n",
    "root.left.right = Node(5) \n",
    "root.right.left = Node(6) \n",
    "root.right.right = Node(7) \n",
    "inorder_second(root)"
   ]
  }
 ],
 "metadata": {
  "kernelspec": {
   "display_name": "Python 3",
   "language": "python",
   "name": "python3"
  },
  "language_info": {
   "codemirror_mode": {
    "name": "ipython",
    "version": 3
   },
   "file_extension": ".py",
   "mimetype": "text/x-python",
   "name": "python",
   "nbconvert_exporter": "python",
   "pygments_lexer": "ipython3",
   "version": "3.6.5"
  }
 },
 "nbformat": 4,
 "nbformat_minor": 2
}
