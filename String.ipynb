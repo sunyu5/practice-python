{
 "cells": [
  {
   "cell_type": "markdown",
   "metadata": {},
   "source": [
    "## String"
   ]
  },
  {
   "cell_type": "code",
   "execution_count": 3,
   "metadata": {},
   "outputs": [
    {
     "data": {
      "text/plain": [
       "True"
      ]
     },
     "execution_count": 3,
     "metadata": {},
     "output_type": "execute_result"
    }
   ],
   "source": [
    "def is_palindromic(s):\n",
    "    return all(s[i] == s[~i] for i in range(len(s)//2))\n",
    "s = '1221'\n",
    "is_palindromic(s)"
   ]
  },
  {
   "cell_type": "code",
   "execution_count": 13,
   "metadata": {
    "collapsed": true
   },
   "outputs": [
    {
     "name": "stdout",
     "output_type": "stream",
     "text": [
      "e\n",
      "15\n",
      "GreeksforGreekshello,world\n",
      "ee\n",
      "True\n",
      "True\n",
      "False\n",
      "['Euclid', 'Axiom 5', 'Parallel Lines']\n",
      "010101\n",
      "Gauss,Prince of Mathemeticians,1777-1855\n",
      "greeksforgreeks\n",
      "NameArchimedes,Rank3\n"
     ]
    }
   ],
   "source": [
    "s = 'GreeksforGreeks'\n",
    "print(s[3])\n",
    "print(len(s))\n",
    "t = 'hello,world'\n",
    "print(s + t)\n",
    "print(s[2:4])\n",
    "print(s.startswith('Greeks'))\n",
    "print(s.endswith('Greeks'))\n",
    "print(s.startswith('for'))\n",
    "print('Euclid,Axiom 5,Parallel Lines'.split(','))\n",
    "print(3*'01')\n",
    "print(','.join(('Gauss','Prince of Mathemeticians',\n",
    "               '1777-1855')))\n",
    "print(s.lower())\n",
    "print('Name{name},Rank{rank}'.format(name = 'Archimedes',rank = 3))"
   ]
  },
  {
   "cell_type": "code",
   "execution_count": 4,
   "metadata": {},
   "outputs": [
    {
     "name": "stdout",
     "output_type": "stream",
     "text": [
      "['4']\n",
      "['4', '3']\n",
      "['4', '3', '2']\n",
      "['4', '3', '2', '1']\n"
     ]
    },
    {
     "data": {
      "text/plain": [
       "'-1234'"
      ]
     },
     "execution_count": 4,
     "metadata": {},
     "output_type": "execute_result"
    }
   ],
   "source": [
    "# interconvert strings and integers\n",
    "import functools\n",
    "import string\n",
    "def int_to_string(x):\n",
    "    is_negative = False\n",
    "    if x < 0:\n",
    "        x, is_negative = -x, True\n",
    "    s = []\n",
    "    while True:\n",
    "        s.append(chr(ord('0') + x%10)) # chr():  For example, chr(97) returns the string 'a'. ord('a') returns the integer 97 \n",
    "        #print(s)\n",
    "        x//=10\n",
    "        if x == 0:\n",
    "            break\n",
    "    return ('-' if is_negative else '') + ''.join(reversed(s))\n",
    "\n",
    "def string_to_int(s):\n",
    "    return functools.reduce(\n",
    "        lambda running_sum, c: running_sum* 10 + string.digits.index(c),\n",
    "        s[s[0] == '-':], 0) * (-1 if s[0] == '-' else 1)\n",
    "\n",
    "string_to_int('-1234')\n",
    "\n",
    "# def string_to_int(s):\n",
    "\n",
    "#     return functools.reduce(\n",
    "#         lambda running_sum, c: running_sum * 10 + string.digits.index(c),\n",
    "#         s[s[0] == '-':], 0) * (-1 if s[0] == '-' else 1)\n",
    "\n",
    "# string_to_int('-1234')\n",
    "int_to_string(-1234)"
   ]
  },
  {
   "cell_type": "code",
   "execution_count": 31,
   "metadata": {},
   "outputs": [
    {
     "name": "stdout",
     "output_type": "stream",
     "text": [
      "False\n",
      "302\n",
      "18 E\n",
      "1 2\n",
      "0 1\n",
      "0 0\n"
     ]
    },
    {
     "data": {
      "text/plain": [
       "'12E'"
      ]
     },
     "execution_count": 31,
     "metadata": {},
     "output_type": "execute_result"
    }
   ],
   "source": [
    "# base conversion\n",
    "import string\n",
    "import functools\n",
    "def convert_base(num_as_string,b1,b2):\n",
    "    def construct_from_base(num_as_int,base):\n",
    "        print(num_as_int//base,string.hexdigits[num_as_int%base].upper() )\n",
    "        return ('' if num_as_int == 0 else \n",
    "               construct_from_base(num_as_int//base,base)+\n",
    "               string.hexdigits[num_as_int%base].upper())\n",
    "    is_negative= num_as_string[0] == '-'\n",
    "    print(is_negative)\n",
    "    num_as_int = functools.reduce(\n",
    "        lambda x,c: x*b1 + string.hexdigits.index(c.lower()),\n",
    "    num_as_string[is_negative:],0)\n",
    "    print(num_as_int)\n",
    "    #print(num_as_string[is_negative:])\n",
    "    return ('-'if is_negative else '') + ('0' if num_as_int == 0 else\n",
    "                                         construct_from_base(num_as_int,b2))\n",
    "convert_base('1A3',13,16)"
   ]
  },
  {
   "cell_type": "code",
   "execution_count": 36,
   "metadata": {},
   "outputs": [
    {
     "data": {
      "text/plain": [
       "'1B3'"
      ]
     },
     "execution_count": 36,
     "metadata": {},
     "output_type": "execute_result"
    }
   ],
   "source": [
    "import string\n",
    "import functools\n",
    "def base_conversion(strings,b1,b2):\n",
    "    def conversion_from(string_to_int,base):\n",
    "        return ('' if string_to_int == 0 else conversion_from(string_to_int//base,base) + \n",
    "                string.hexdigits[string_to_int%base].upper())\n",
    "    is_negative = strings[0] == '-'\n",
    "    string_to_int =  functools.reduce(\n",
    "        lambda running_sum,c: running_sum*b1 + string.hexdigits.index(c.lower()),\n",
    "        strings[is_negative:],0)\n",
    "    return ('-' if is_negative else '') + ('0' if string_to_int == 0 else conversion_from(string_to_int,b2))\n",
    "base_conversion('1E2',13,14)"
   ]
  },
  {
   "cell_type": "code",
   "execution_count": 13,
   "metadata": {},
   "outputs": [
    {
     "data": {
      "text/plain": [
       "28"
      ]
     },
     "execution_count": 13,
     "metadata": {},
     "output_type": "execute_result"
    }
   ],
   "source": [
    "# compute the spreadcheet column encoding\n",
    "def spreadcheet_encoding(col):\n",
    "    return functools.reduce(\n",
    "        lambda result, c: result*26 + ord(c) - ord('A') + 1, col, 0)\n",
    "    \n",
    "spreadcheet_encoding('AB')"
   ]
  },
  {
   "cell_type": "code",
   "execution_count": 4,
   "metadata": {},
   "outputs": [
    {
     "name": "stdout",
     "output_type": "stream",
     "text": [
      "16\n",
      "Q\n",
      "0\n",
      "QA\n"
     ]
    },
    {
     "data": {
      "text/plain": [
       "'AQ'"
      ]
     },
     "execution_count": 4,
     "metadata": {},
     "output_type": "execute_result"
    }
   ],
   "source": [
    "def num_char(num):\n",
    "    letters = ''\n",
    "    while num:\n",
    "        mod = (num - 1) % 26\n",
    "        print(mod)\n",
    "        letters += chr(mod + 65)\n",
    "        print(letters)\n",
    "        num = (num - 1) // 26\n",
    "    return ''.join(reversed(letters))\n",
    "num_char(43)"
   ]
  },
  {
   "cell_type": "code",
   "execution_count": 14,
   "metadata": {},
   "outputs": [
    {
     "data": {
      "text/plain": [
       "28"
      ]
     },
     "execution_count": 14,
     "metadata": {},
     "output_type": "execute_result"
    }
   ],
   "source": [
    "def spreat_decode(s):\n",
    "    return functools.reduce(lambda res,c:res*26 + ord(c)-ord('A') + 1,s,0)\n",
    "spreat_decode('AB')"
   ]
  },
  {
   "cell_type": "code",
   "execution_count": 57,
   "metadata": {},
   "outputs": [
    {
     "name": "stdout",
     "output_type": "stream",
     "text": [
      "1\n",
      "['a', 'c', 1, 'c', 'b']\n"
     ]
    },
    {
     "data": {
      "text/plain": [
       "(3, ['d', 'd', 'c'])"
      ]
     },
     "execution_count": 57,
     "metadata": {},
     "output_type": "execute_result"
    }
   ],
   "source": [
    "# Replace and Remove for replace using forward iteration for remove using backward iteration\n",
    "def replace_and_remove(size,s):\n",
    "    write_size, a_count = 0,0\n",
    "    for i in range(size):\n",
    "        if s[i] != 'b':\n",
    "            s[write_size] = s[i]\n",
    "            write_size += 1\n",
    "        if s[i] == 'a':\n",
    "            a_count += 1\n",
    "    current_idx = write_size -1\n",
    "    write_size += a_count-1\n",
    "    #print(write_size)\n",
    "    print(a_count)\n",
    "    final_size = write_size  +1\n",
    "    \n",
    "    s[(current_idx+1):write_size] =[1]*(a_count)\n",
    "    print(s)\n",
    "    \n",
    "    while current_idx >= 0:\n",
    "        if s[current_idx] == 'a':\n",
    "            s[write_size-1:write_size+1] = 'dd'\n",
    "            write_size -= 2\n",
    "            #print(s)\n",
    "            \n",
    "        else:\n",
    "            s[write_size] = s[current_idx]\n",
    "            write_size -= 1\n",
    "        current_idx -= 1\n",
    "    return  final_size,s[:final_size]\n",
    "replace_and_remove(4,['a','b','c','b'])"
   ]
  },
  {
   "cell_type": "code",
   "execution_count": 22,
   "metadata": {},
   "outputs": [
    {
     "data": {
      "text/plain": [
       "['d', 'd', 'd', 'd', 'd', 'd', 'c']"
      ]
     },
     "execution_count": 22,
     "metadata": {},
     "output_type": "execute_result"
    }
   ],
   "source": [
    "def remove_and_replace(size,s):\n",
    "    write_size, account= 0,0\n",
    "    for i in range(size):\n",
    "        if s[i] != 'b':\n",
    "            s[write_size] = s[i]\n",
    "            write_size += 1\n",
    "        if s[i] == 'a':\n",
    "            account += 1\n",
    "    current_size = write_size-1\n",
    "    write_size += account-1\n",
    "    final_size = write_size +1\n",
    "    s[current_size+1:write_size] = [1]*account\n",
    "    while current_size >= 0:\n",
    "        if s[current_size] == 'a':\n",
    "            s[write_size-1:write_size+1] ='dd'\n",
    "            write_size -=2\n",
    "        else:\n",
    "            s[write_size] = s[current_size]\n",
    "            write_size -= 1\n",
    "        current_size -= 1\n",
    "    return s[:final_size]\n",
    "remove_and_replace(5,['a','b','a','a','c'])"
   ]
  },
  {
   "cell_type": "code",
   "execution_count": 40,
   "metadata": {},
   "outputs": [
    {
     "data": {
      "text/plain": [
       "[1, 2, 3, 'd', 'd']"
      ]
     },
     "execution_count": 40,
     "metadata": {},
     "output_type": "execute_result"
    }
   ],
   "source": [
    "s =[1,2,3]\n",
    "s[4:6] = 'dd'\n",
    "s"
   ]
  },
  {
   "cell_type": "code",
   "execution_count": 1,
   "metadata": {},
   "outputs": [
    {
     "data": {
      "text/plain": [
       "[1, 2, 3]"
      ]
     },
     "execution_count": 1,
     "metadata": {},
     "output_type": "execute_result"
    }
   ],
   "source": [
    "def insertion_sort(nums):\n",
    "    i = 1\n",
    "    while len(nums)-1 >= i:\n",
    "        j = i \n",
    "        while j >0 :\n",
    "            if nums[j] < nums[j-1]:\n",
    "                nums[j],nums[j-1] = nums[j-1],nums[j]\n",
    "                j-=1\n",
    "        i+=1\n",
    "    return nums\n",
    "insertion_sort([3,2,1])"
   ]
  },
  {
   "cell_type": "code",
   "execution_count": 5,
   "metadata": {},
   "outputs": [
    {
     "data": {
      "text/plain": [
       "True"
      ]
     },
     "execution_count": 5,
     "metadata": {},
     "output_type": "execute_result"
    }
   ],
   "source": [
    "# Test Palindromicity\n",
    "def test_palidromic(s):\n",
    "    i,j = 0, len(s)-1\n",
    "    while i < j:\n",
    "        while not s[i].isalnum() and i<j:\n",
    "            i += 1\n",
    "        while not s[j].isalnum() and i<j:\n",
    "            j -= 1\n",
    "        if s[i].lower() != s[j].lower():\n",
    "            return False\n",
    "        i,j = i +1, j-1\n",
    "    return True\n",
    "test_palidromic('Able was I, ere I saw Elba')"
   ]
  },
  {
   "cell_type": "code",
   "execution_count": 2,
   "metadata": {
    "collapsed": true
   },
   "outputs": [
    {
     "ename": "AttributeError",
     "evalue": "'str' object has no attribute 'reverse'",
     "output_type": "error",
     "traceback": [
      "\u001b[0;31m---------------------------------------------------------------------------\u001b[0m",
      "\u001b[0;31mAttributeError\u001b[0m                            Traceback (most recent call last)",
      "\u001b[0;32m<ipython-input-2-401b04553cd8>\u001b[0m in \u001b[0;36m<module>\u001b[0;34m()\u001b[0m\n\u001b[1;32m     16\u001b[0m         \u001b[0mstart\u001b[0m \u001b[0;34m=\u001b[0m \u001b[0mfinish\u001b[0m \u001b[0;34m+\u001b[0m \u001b[0;36m1\u001b[0m\u001b[0;34m\u001b[0m\u001b[0m\n\u001b[1;32m     17\u001b[0m     \u001b[0mreverse_range\u001b[0m\u001b[0;34m(\u001b[0m\u001b[0ms\u001b[0m\u001b[0;34m,\u001b[0m\u001b[0mstart\u001b[0m\u001b[0;34m,\u001b[0m\u001b[0mlen\u001b[0m\u001b[0;34m(\u001b[0m\u001b[0ms\u001b[0m\u001b[0;34m)\u001b[0m\u001b[0;34m-\u001b[0m\u001b[0;36m1\u001b[0m\u001b[0;34m)\u001b[0m\u001b[0;34m\u001b[0m\u001b[0m\n\u001b[0;32m---> 18\u001b[0;31m \u001b[0mreverse_words\u001b[0m\u001b[0;34m(\u001b[0m\u001b[0;34m'ram is costly'\u001b[0m\u001b[0;34m)\u001b[0m\u001b[0;34m\u001b[0m\u001b[0m\n\u001b[0m",
      "\u001b[0;32m<ipython-input-2-401b04553cd8>\u001b[0m in \u001b[0;36mreverse_words\u001b[0;34m(s)\u001b[0m\n\u001b[1;32m      2\u001b[0m \u001b[0;32mdef\u001b[0m \u001b[0mreverse_words\u001b[0m\u001b[0;34m(\u001b[0m\u001b[0ms\u001b[0m\u001b[0;34m)\u001b[0m\u001b[0;34m:\u001b[0m\u001b[0;34m\u001b[0m\u001b[0m\n\u001b[1;32m      3\u001b[0m     \u001b[0;31m#first reverse the whole string\u001b[0m\u001b[0;34m\u001b[0m\u001b[0;34m\u001b[0m\u001b[0m\n\u001b[0;32m----> 4\u001b[0;31m     \u001b[0ms\u001b[0m\u001b[0;34m.\u001b[0m\u001b[0mreverse\u001b[0m\u001b[0;34m(\u001b[0m\u001b[0;34m)\u001b[0m\u001b[0;34m\u001b[0m\u001b[0m\n\u001b[0m\u001b[1;32m      5\u001b[0m \u001b[0;34m\u001b[0m\u001b[0m\n\u001b[1;32m      6\u001b[0m     \u001b[0;32mdef\u001b[0m \u001b[0mreverse_range\u001b[0m\u001b[0;34m(\u001b[0m\u001b[0ms\u001b[0m\u001b[0;34m,\u001b[0m \u001b[0mstart\u001b[0m\u001b[0;34m,\u001b[0m\u001b[0mfinish\u001b[0m\u001b[0;34m)\u001b[0m\u001b[0;34m:\u001b[0m\u001b[0;34m\u001b[0m\u001b[0m\n",
      "\u001b[0;31mAttributeError\u001b[0m: 'str' object has no attribute 'reverse'"
     ]
    }
   ],
   "source": [
    "# reverse all the words in a sentence\n",
    "def reverse_words(s):\n",
    "    #first reverse the whole string\n",
    "    s.reverse()\n",
    "    \n",
    "    def reverse_range(s, start,finish):\n",
    "        while start < finish:\n",
    "            s[start],s[finish] = s[finish],s[start]\n",
    "            start,finish = start+1,finish-1\n",
    "    start= 0\n",
    "    while True:\n",
    "        finish = s.find(b' ', start)\n",
    "        if finish < 0:\n",
    "            break\n",
    "        reverse_range(s,start,finish-1)\n",
    "        start = finish + 1\n",
    "    reverse_range(s,start,len(s)-1)\n",
    "reverse_words('ram is costly')"
   ]
  },
  {
   "cell_type": "code",
   "execution_count": 11,
   "metadata": {},
   "outputs": [
    {
     "data": {
      "text/plain": [
       "'world hello'"
      ]
     },
     "execution_count": 11,
     "metadata": {},
     "output_type": "execute_result"
    }
   ],
   "source": [
    "# reverse words pythonic\n",
    "def reverse_words_pythonic(s):\n",
    "    return ' '.join(reversed(s.strip().split(' ')))\n",
    "reverse_words_pythonic(' hello world ')"
   ]
  },
  {
   "cell_type": "code",
   "execution_count": 15,
   "metadata": {},
   "outputs": [
    {
     "data": {
      "text/plain": [
       "'world hello'"
      ]
     },
     "execution_count": 15,
     "metadata": {},
     "output_type": "execute_result"
    }
   ],
   "source": [
    "s = 'hello world'\n",
    "' '.join(reversed(s.strip().split(' ')))"
   ]
  },
  {
   "cell_type": "code",
   "execution_count": 63,
   "metadata": {
    "collapsed": true
   },
   "outputs": [
    {
     "name": "stdout",
     "output_type": "stream",
     "text": [
      "True\n"
     ]
    },
    {
     "data": {
      "text/plain": [
       "['TJPA',\n",
       " 'TJPB',\n",
       " 'TJPC',\n",
       " 'TJQA',\n",
       " 'TJQB',\n",
       " 'TJQC',\n",
       " 'TJRA',\n",
       " 'TJRB',\n",
       " 'TJRC',\n",
       " 'TJSA',\n",
       " 'TJSB',\n",
       " 'TJSC',\n",
       " 'TKPA',\n",
       " 'TKPB',\n",
       " 'TKPC',\n",
       " 'TKQA',\n",
       " 'TKQB',\n",
       " 'TKQC',\n",
       " 'TKRA',\n",
       " 'TKRB',\n",
       " 'TKRC',\n",
       " 'TKSA',\n",
       " 'TKSB',\n",
       " 'TKSC',\n",
       " 'TLPA',\n",
       " 'TLPB',\n",
       " 'TLPC',\n",
       " 'TLQA',\n",
       " 'TLQB',\n",
       " 'TLQC',\n",
       " 'TLRA',\n",
       " 'TLRB',\n",
       " 'TLRC',\n",
       " 'TLSA',\n",
       " 'TLSB',\n",
       " 'TLSC',\n",
       " 'UJPA',\n",
       " 'UJPB',\n",
       " 'UJPC',\n",
       " 'UJQA',\n",
       " 'UJQB',\n",
       " 'UJQC',\n",
       " 'UJRA',\n",
       " 'UJRB',\n",
       " 'UJRC',\n",
       " 'UJSA',\n",
       " 'UJSB',\n",
       " 'UJSC',\n",
       " 'UKPA',\n",
       " 'UKPB',\n",
       " 'UKPC',\n",
       " 'UKQA',\n",
       " 'UKQB',\n",
       " 'UKQC',\n",
       " 'UKRA',\n",
       " 'UKRB',\n",
       " 'UKRC',\n",
       " 'UKSA',\n",
       " 'UKSB',\n",
       " 'UKSC',\n",
       " 'ULPA',\n",
       " 'ULPB',\n",
       " 'ULPC',\n",
       " 'ULQA',\n",
       " 'ULQB',\n",
       " 'ULQC',\n",
       " 'ULRA',\n",
       " 'ULRB',\n",
       " 'ULRC',\n",
       " 'ULSA',\n",
       " 'ULSB',\n",
       " 'ULSC',\n",
       " 'VJPA',\n",
       " 'VJPB',\n",
       " 'VJPC',\n",
       " 'VJQA',\n",
       " 'VJQB',\n",
       " 'VJQC',\n",
       " 'VJRA',\n",
       " 'VJRB',\n",
       " 'VJRC',\n",
       " 'VJSA',\n",
       " 'VJSB',\n",
       " 'VJSC',\n",
       " 'VKPA',\n",
       " 'VKPB',\n",
       " 'VKPC',\n",
       " 'VKQA',\n",
       " 'VKQB',\n",
       " 'VKQC',\n",
       " 'VKRA',\n",
       " 'VKRB',\n",
       " 'VKRC',\n",
       " 'VKSA',\n",
       " 'VKSB',\n",
       " 'VKSC',\n",
       " 'VLPA',\n",
       " 'VLPB',\n",
       " 'VLPC',\n",
       " 'VLQA',\n",
       " 'VLQB',\n",
       " 'VLQC',\n",
       " 'VLRA',\n",
       " 'VLRB',\n",
       " 'VLRC',\n",
       " 'VLSA',\n",
       " 'VLSB',\n",
       " 'VLSC']"
      ]
     },
     "execution_count": 63,
     "metadata": {},
     "output_type": "execute_result"
    }
   ],
   "source": [
    "# compute all mnemonics for a phone number\n",
    "mapping = ('0','1','ABC','DEF','GHI','JKL','MNO','PQRS','TUV','WXYZ')\n",
    "def mnemonics(nums):\n",
    "    def mnemonics_helper(digit):\n",
    "        if digit == len(nums):\n",
    "            res.append(''.join(partial_mnemonics))\n",
    "        else:\n",
    "            for c in mapping[int(nums[digit])]:\n",
    "                partial_mnemonics[digit] = c\n",
    "                mnemonics_helper(digit+1)\n",
    "    res = []\n",
    "    partial_mnemonics = [0]*len(nums)\n",
    "    mnemonics_helper(0)\n",
    "    #print(len(res) == len(set(res)))\n",
    "    return res\n",
    "mnemonics('8572')"
   ]
  },
  {
   "cell_type": "code",
   "execution_count": 6,
   "metadata": {
    "collapsed": true
   },
   "outputs": [
    {
     "name": "stdout",
     "output_type": "stream",
     "text": [
      "TUV\n",
      "JKL\n",
      "PQRS\n",
      "ABC\n",
      "ABC\n",
      "ABC\n",
      "ABC\n",
      "PQRS\n",
      "ABC\n",
      "ABC\n",
      "ABC\n",
      "ABC\n",
      "PQRS\n",
      "ABC\n",
      "ABC\n",
      "ABC\n",
      "ABC\n",
      "JKL\n",
      "PQRS\n",
      "ABC\n",
      "ABC\n",
      "ABC\n",
      "ABC\n",
      "PQRS\n",
      "ABC\n",
      "ABC\n",
      "ABC\n",
      "ABC\n",
      "PQRS\n",
      "ABC\n",
      "ABC\n",
      "ABC\n",
      "ABC\n",
      "JKL\n",
      "PQRS\n",
      "ABC\n",
      "ABC\n",
      "ABC\n",
      "ABC\n",
      "PQRS\n",
      "ABC\n",
      "ABC\n",
      "ABC\n",
      "ABC\n",
      "PQRS\n",
      "ABC\n",
      "ABC\n",
      "ABC\n",
      "ABC\n"
     ]
    },
    {
     "data": {
      "text/plain": [
       "['TJPA',\n",
       " 'TJPB',\n",
       " 'TJPC',\n",
       " 'TJQA',\n",
       " 'TJQB',\n",
       " 'TJQC',\n",
       " 'TJRA',\n",
       " 'TJRB',\n",
       " 'TJRC',\n",
       " 'TJSA',\n",
       " 'TJSB',\n",
       " 'TJSC',\n",
       " 'TKPA',\n",
       " 'TKPB',\n",
       " 'TKPC',\n",
       " 'TKQA',\n",
       " 'TKQB',\n",
       " 'TKQC',\n",
       " 'TKRA',\n",
       " 'TKRB',\n",
       " 'TKRC',\n",
       " 'TKSA',\n",
       " 'TKSB',\n",
       " 'TKSC',\n",
       " 'TLPA',\n",
       " 'TLPB',\n",
       " 'TLPC',\n",
       " 'TLQA',\n",
       " 'TLQB',\n",
       " 'TLQC',\n",
       " 'TLRA',\n",
       " 'TLRB',\n",
       " 'TLRC',\n",
       " 'TLSA',\n",
       " 'TLSB',\n",
       " 'TLSC',\n",
       " 'UJPA',\n",
       " 'UJPB',\n",
       " 'UJPC',\n",
       " 'UJQA',\n",
       " 'UJQB',\n",
       " 'UJQC',\n",
       " 'UJRA',\n",
       " 'UJRB',\n",
       " 'UJRC',\n",
       " 'UJSA',\n",
       " 'UJSB',\n",
       " 'UJSC',\n",
       " 'UKPA',\n",
       " 'UKPB',\n",
       " 'UKPC',\n",
       " 'UKQA',\n",
       " 'UKQB',\n",
       " 'UKQC',\n",
       " 'UKRA',\n",
       " 'UKRB',\n",
       " 'UKRC',\n",
       " 'UKSA',\n",
       " 'UKSB',\n",
       " 'UKSC',\n",
       " 'ULPA',\n",
       " 'ULPB',\n",
       " 'ULPC',\n",
       " 'ULQA',\n",
       " 'ULQB',\n",
       " 'ULQC',\n",
       " 'ULRA',\n",
       " 'ULRB',\n",
       " 'ULRC',\n",
       " 'ULSA',\n",
       " 'ULSB',\n",
       " 'ULSC',\n",
       " 'VJPA',\n",
       " 'VJPB',\n",
       " 'VJPC',\n",
       " 'VJQA',\n",
       " 'VJQB',\n",
       " 'VJQC',\n",
       " 'VJRA',\n",
       " 'VJRB',\n",
       " 'VJRC',\n",
       " 'VJSA',\n",
       " 'VJSB',\n",
       " 'VJSC',\n",
       " 'VKPA',\n",
       " 'VKPB',\n",
       " 'VKPC',\n",
       " 'VKQA',\n",
       " 'VKQB',\n",
       " 'VKQC',\n",
       " 'VKRA',\n",
       " 'VKRB',\n",
       " 'VKRC',\n",
       " 'VKSA',\n",
       " 'VKSB',\n",
       " 'VKSC',\n",
       " 'VLPA',\n",
       " 'VLPB',\n",
       " 'VLPC',\n",
       " 'VLQA',\n",
       " 'VLQB',\n",
       " 'VLQC',\n",
       " 'VLRA',\n",
       " 'VLRB',\n",
       " 'VLRC',\n",
       " 'VLSA',\n",
       " 'VLSB',\n",
       " 'VLSC']"
      ]
     },
     "execution_count": 6,
     "metadata": {},
     "output_type": "execute_result"
    }
   ],
   "source": [
    "# compute all mnemonics for a phone number\n",
    "mapping = ('0','1','ABC','DEF','GHI','JKL','MNO','PQRS','TUV','WXYZ')\n",
    "def mnemoics(nums):\n",
    "    def m_helper(digits):\n",
    "        if digits == len(nums):\n",
    "            res.append(''.join(partial_m))\n",
    "        else:\n",
    "            for c in mapping[int(nums[digits])]:\n",
    "                partial_m[digits] = c\n",
    "                m_helper(digits+1)\n",
    "    res = []\n",
    "    partial_m = [0]*len(nums)\n",
    "    m_helper(0)\n",
    "    return res\n",
    "mnemoics('8572')"
   ]
  },
  {
   "cell_type": "code",
   "execution_count": 2,
   "metadata": {},
   "outputs": [
    {
     "name": "stdout",
     "output_type": "stream",
     "text": [
      "11\n",
      "21\n"
     ]
    },
    {
     "data": {
      "text/plain": [
       "'21'"
      ]
     },
     "execution_count": 2,
     "metadata": {},
     "output_type": "execute_result"
    }
   ],
   "source": [
    "# the look-and-say problem\n",
    "def look_and_say(n):\n",
    "    def next_number(s):\n",
    "        result, i  = [], 0\n",
    "        while i < len(s):\n",
    "            count = 1\n",
    "            while i +1 < len(s) and s[i] == s[i+1]:\n",
    "                i += 1\n",
    "                count += 1\n",
    "            result.append(str(count)+ s[i])\n",
    "            i += 1\n",
    "        return ''.join(result)\n",
    "    s = '1'\n",
    "    for _ in range(1,n):\n",
    "        s = next_number(s)\n",
    "        print(s)\n",
    "    return s\n",
    "look_and_say(3)"
   ]
  },
  {
   "cell_type": "code",
   "execution_count": 14,
   "metadata": {},
   "outputs": [
    {
     "data": {
      "text/plain": [
       "'111221'"
      ]
     },
     "execution_count": 14,
     "metadata": {},
     "output_type": "execute_result"
    }
   ],
   "source": [
    "import itertools\n",
    "def look_and_say_py(n):\n",
    "    s = '1'\n",
    "    for _ in range(n-1):\n",
    "        s =''.join(\n",
    "            str(len(list(group)))+key for key,group in itertools.groupby(s))\n",
    "    return s\n",
    "look_and_say_py(5)"
   ]
  },
  {
   "cell_type": "code",
   "execution_count": 19,
   "metadata": {},
   "outputs": [
    {
     "name": "stdout",
     "output_type": "stream",
     "text": [
      "312211\n",
      "1 ['1', '1', '1']\n",
      "2 ['2', '2']\n",
      "1 ['1']\n"
     ]
    }
   ],
   "source": [
    "s =''.join(\n",
    "            str(len(list(group)))+key for key,group in itertools.groupby('111221'))\n",
    "print(s)\n",
    "for key, group in itertools.groupby('111221'):\n",
    "    print(key,list(group))"
   ]
  },
  {
   "cell_type": "code",
   "execution_count": 22,
   "metadata": {},
   "outputs": [
    {
     "data": {
      "text/plain": [
       "59"
      ]
     },
     "execution_count": 22,
     "metadata": {},
     "output_type": "execute_result"
    }
   ],
   "source": [
    "def roman_to_integer(s):\n",
    "    dicts = {'I':1,'V':5,'X':10,'L':50,'C':100,'D':500,'M':1000}\n",
    "    res = 0\n",
    "    for i in range(len(s)-1):\n",
    "        if dicts[s[i]]<dicts[s[i+1]]:\n",
    "            res+= dicts[s[i+1]]-dicts[s[i]]\n",
    "        else:\n",
    "            res+= dicts[s[i]]\n",
    "    return res\n",
    "roman_to_integer('LIX')"
   ]
  },
  {
   "cell_type": "code",
   "execution_count": 25,
   "metadata": {},
   "outputs": [
    {
     "data": {
      "text/plain": [
       "99"
      ]
     },
     "execution_count": 25,
     "metadata": {},
     "output_type": "execute_result"
    }
   ],
   "source": [
    "import functools\n",
    "def roman_to_int(s):\n",
    "    T = {'I':1,'V':5,'X':10,'L':50,'C':100,'D':500,'M':1000}\n",
    "    return functools.reduce(\n",
    "        lambda val, i: val + (-T[s[i]] if T[s[i]] < T[s[i+1]] else T[s[i]]),\n",
    "        reversed(range(len(s)-1)), T[s[-1]])\n",
    "roman_to_int('LIX')"
   ]
  },
  {
   "cell_type": "code",
   "execution_count": 45,
   "metadata": {},
   "outputs": [
    {
     "name": "stdout",
     "output_type": "stream",
     "text": [
      "[1, 0]\n"
     ]
    },
    {
     "data": {
      "text/plain": [
       "10"
      ]
     },
     "execution_count": 45,
     "metadata": {},
     "output_type": "execute_result"
    }
   ],
   "source": [
    "s = 'LIX'\n",
    "T = {'I':1,'V':5,'X':10,'L':50,'C':100,'D':500,'M':1000}\n",
    "n = functools.reduce(\n",
    "        lambda val, i: val + (-T[s[i]] if T[s[i]] < T[s[i+1]] else T[s[i]]),\n",
    "        reversed(range(len(s)-1)), T[s[-1]])\n"
   ]
  },
  {
   "cell_type": "code",
   "execution_count": 52,
   "metadata": {},
   "outputs": [
    {
     "data": {
      "text/plain": [
       "['1.92.168.11',\n",
       " '19.2.168.11',\n",
       " '19.21.68.11',\n",
       " '19.216.8.11',\n",
       " '19.216.81.1',\n",
       " '192.1.68.11',\n",
       " '192.16.8.11',\n",
       " '192.16.81.1',\n",
       " '192.168.1.1']"
      ]
     },
     "execution_count": 52,
     "metadata": {},
     "output_type": "execute_result"
    }
   ],
   "source": [
    "# compute all valid IP address\n",
    "def get_valid_id(s):\n",
    "    def is_valid(s):\n",
    "        return len(s) ==1 or (s[0] != '0' and int(s) <=255)\n",
    "    result, parts = [],[None]*4\n",
    "    for i in range(1,min(4,len(s))):\n",
    "        parts[0] = s[:i]\n",
    "        if is_valid(parts[0]):\n",
    "            for j in range(1,min(len(s)-i,4)):\n",
    "                parts[1] =s[i:i+j]\n",
    "                if is_valid(parts[1]):\n",
    "                    for k in range(1,min(len(s)-i-j,4)):\n",
    "                        parts[2],parts[3] = s[i+j: i+j+k], s[i+j+k:]\n",
    "                        if is_valid(parts[2]) and is_valid(parts[3]):\n",
    "                            result.append('.'.join(parts))\n",
    "    return result\n",
    "get_valid_id('19216811')"
   ]
  },
  {
   "cell_type": "code",
   "execution_count": 58,
   "metadata": {},
   "outputs": [
    {
     "data": {
      "text/plain": [
       "['14.82.93.81', '148.2.93.81', '148.29.3.81', '148.29.38.1']"
      ]
     },
     "execution_count": 58,
     "metadata": {},
     "output_type": "execute_result"
    }
   ],
   "source": [
    "def put_all_ip(s):\n",
    "    def is_valid(s):\n",
    "        return len(s) == 1 or (s[0] != '0' and int(s)<= 255)\n",
    "    result, part = [],[None]*4\n",
    "    for i in range(1,min(4,len(s))):\n",
    "        part[0] = s[:i]\n",
    "        if is_valid(part[0]):\n",
    "            for j in range(1,min(len(s)-i,4)):\n",
    "                part[1] = s[i:i+j]\n",
    "                if is_valid(part[1]):\n",
    "                    for k in range(1, min(len(s)-i-j,4)):\n",
    "                        part[2],part[3] = s[i+j:i+j+k],s[i+j+k:]\n",
    "                        if is_valid(part[2]) and is_valid(part[3]):\n",
    "                            result.append('.'.join(part))\n",
    "    return result\n",
    "put_all_ip('14829381')"
   ]
  },
  {
   "cell_type": "code",
   "execution_count": 32,
   "metadata": {},
   "outputs": [
    {
     "data": {
      "text/plain": [
       "['1.23.223.12',\n",
       " '1.232.23.12',\n",
       " '1.232.231.2',\n",
       " '12.3.223.12',\n",
       " '12.32.23.12',\n",
       " '12.32.231.2',\n",
       " '123.2.23.12',\n",
       " '123.2.231.2',\n",
       " '123.22.3.12',\n",
       " '123.22.31.2',\n",
       " '123.223.1.2']"
      ]
     },
     "execution_count": 32,
     "metadata": {},
     "output_type": "execute_result"
    }
   ],
   "source": [
    "def put_ip(s):\n",
    "    def is_valid(s):\n",
    "        return len(s)==1 or(int(s)<= 255 and s[0]!= '0')\n",
    "    res,part = [],[None]*4\n",
    "    for i in range(1,min(4,len(s))):\n",
    "        part[0] = s[:i]\n",
    "        if is_valid(part[0]):\n",
    "            for j in range(1,min(len(s)-i,4)):\n",
    "                part[1] = s[i:i+j]\n",
    "                if is_valid(part[1]):\n",
    "                    for k in range(1,min(len(s)-i-j,4)):\n",
    "                        part[2],part[3] = s[i+j:i+j+k],s[i+j+k:]\n",
    "                        if is_valid(part[2])and is_valid(part[3]):\n",
    "                            res.append('.'.join(part))\n",
    "    return res\n",
    "put_ip('12322312')"
   ]
  },
  {
   "cell_type": "code",
   "execution_count": 61,
   "metadata": {},
   "outputs": [
    {
     "data": {
      "text/plain": [
       "[[2, 5]]"
      ]
     },
     "execution_count": 61,
     "metadata": {},
     "output_type": "execute_result"
    }
   ],
   "source": [
    "def combination_sum2(nums,target):\n",
    "    def dfs(nums,start,target,path,res):\n",
    "        if target == 0:\n",
    "            res.append(path)\n",
    "        prev= -1\n",
    "        for i in range(start,len(nums)):\n",
    "            if target< nums[i]:\n",
    "                break\n",
    "            if target!= -1 and prev == nums[i]:\n",
    "                continue\n",
    "\n",
    "            dfs(nums,i+1,target-nums[i],path+[nums[i]],res)\n",
    "            prev = nums[i]\n",
    "    nums.sort()\n",
    "    res = []\n",
    "    if not nums:\n",
    "        return []\n",
    "    dfs(nums,0,target,[],res)\n",
    "    return res\n",
    "combination_sum2([2,2,4,5],7)"
   ]
  },
  {
   "cell_type": "code",
   "execution_count": 64,
   "metadata": {},
   "outputs": [
    {
     "data": {
      "text/plain": [
       "'e lHlowrdlo'"
      ]
     },
     "execution_count": 64,
     "metadata": {},
     "output_type": "execute_result"
    }
   ],
   "source": [
    "def snake_pythonic(s):\n",
    "    return s[1::4]+s[::2]+s[3::4]\n",
    "snake_pythonic('Hello world')"
   ]
  },
  {
   "cell_type": "code",
   "execution_count": 106,
   "metadata": {},
   "outputs": [
    {
     "data": {
      "text/plain": [
       "'4e1f1e'"
      ]
     },
     "execution_count": 106,
     "metadata": {},
     "output_type": "execute_result"
    }
   ],
   "source": [
    "# Implement run_length encoding\n",
    "def decoding(s):\n",
    "    count,res = 0,[]\n",
    "    for c in s:\n",
    "        if c.isdigit():\n",
    "            count =  int(c)\n",
    "        else:\n",
    "            res.append(c*count)\n",
    "            count = 0\n",
    "    return ''.join(res)\n",
    "decoding('1e4f2c')\n",
    "def encoding(s):\n",
    "    result = []\n",
    "    count = 1\n",
    "    for i in range(1, len(s) + 1):\n",
    "        if  i == len(s) or s[i]!= s[i-1] :\n",
    "            result.append(str(count)+ s[i-1])\n",
    "            count = 1\n",
    "            \n",
    "        else:\n",
    "            count +=1\n",
    "    return ''.join(result)\n",
    "encoding('eeeefe')\n",
    "# def encoding(s)\n",
    "#     result, count = [], 1\n",
    "#     for i in range(1, len(s) + 1):\n",
    "#         if i == len(s) or s[i] != s[i - 1]:\n",
    "#             # Found new character so write the count of previous character.\n",
    "#             result.append(str(count) + s[i - 1])\n",
    "#             count = 1\n",
    "#         else:  # s[i] == s[i - 1].\n",
    "#             count += 1\n",
    "#     return ''.join(result)\n",
    "# encoding('eeeefe')"
   ]
  },
  {
   "cell_type": "code",
   "execution_count": 112,
   "metadata": {},
   "outputs": [
    {
     "data": {
      "text/plain": [
       "'3e2f2e'"
      ]
     },
     "execution_count": 112,
     "metadata": {},
     "output_type": "execute_result"
    }
   ],
   "source": [
    "def decode(s):\n",
    "    res, count = [], 0\n",
    "    for c in s:\n",
    "        if c.isdigit():\n",
    "            count = count *10 + int(c)\n",
    "        else:\n",
    "            res.append(count*c)\n",
    "            count = 0\n",
    "    return ''.join(res)\n",
    "decode('12e2f')\n",
    "def encode(s):\n",
    "    res,count = [], 1\n",
    "    for i in range(1,len(s)+1):\n",
    "        if i == len(s) or s[i] != s[i-1]:\n",
    "            res.append(str(count) + s[i-1])\n",
    "            count = 1\n",
    "        else:\n",
    "            count += 1\n",
    "    return ''.join(res)\n",
    "encode('eeeffee')"
   ]
  },
  {
   "cell_type": "code",
   "execution_count": 133,
   "metadata": {},
   "outputs": [
    {
     "name": "stdout",
     "output_type": "stream",
     "text": [
      "68273\n",
      "72041\n",
      "3\n",
      "4\n",
      "5\n",
      "6\n",
      "7\n",
      "8\n"
     ]
    },
    {
     "data": {
      "text/plain": [
       "6"
      ]
     },
     "execution_count": 133,
     "metadata": {},
     "output_type": "execute_result"
    }
   ],
   "source": [
    "# Find the first occurrence of a substring( Using rabin-karp algorithm)\n",
    "def rabin_karp(t, s):\n",
    "    if len(s) > len(t): # s is not substring of t\n",
    "        return -1\n",
    "    BASE = 26\n",
    "    # Hash codes for the substring of t and s.\n",
    "    t_hash = functools.reduce(lambda h, c: h*BASE + ord(c), t[:len(s)],0)\n",
    "    print(t_hash)\n",
    "    s_hash = functools.reduce(lambda h,c: h*BASE + ord(c),s,0)\n",
    "    print(s_hash)\n",
    "    power_s = BASE**max(len(s)-1,0)\n",
    "    for i in range(len(s),len(t)):\n",
    "        print(i)\n",
    "        if t_hash == s_hash and t[i-len(s):i] == s:\n",
    "            return i - len(s)\n",
    "        t_hash -= ord(t[i-len(s)])*power_s\n",
    "        t_hash = t_hash*BASE + ord(t[i])\n",
    "    if t_hash == s_hash and t[-len(s):] == s:\n",
    "        return len(t)-len(s)\n",
    "    return -1\n",
    "rabin_karp('adeedefsc','fsc')"
   ]
  },
  {
   "cell_type": "code",
   "execution_count": 4,
   "metadata": {},
   "outputs": [
    {
     "data": {
      "text/plain": [
       "4"
      ]
     },
     "execution_count": 4,
     "metadata": {},
     "output_type": "execute_result"
    }
   ],
   "source": [
    "# Find the first occurrence of a substring( Using rabin-karp algorithm)\n",
    "import functools\n",
    "def find_substring(t,s):\n",
    "    if len(s) > len(t):\n",
    "        return -1\n",
    "    BASE = 26\n",
    "    t_hash = functools.reduce(lambda h, c: h*BASE + ord(c), t[:len(s)],0)\n",
    "    s_hash = functools.reduce(lambda h,c : h*BASE + ord(c),s,0)\n",
    "    power_max = BASE**max(len(s)-1,0)\n",
    "    for i in range(len(s),len(t)):\n",
    "        if t_hash == s_hash and t[i-len(s):i] == s:\n",
    "            return i-len(s)\n",
    "        t_hash -= ord(t[i-len(s)])*power_max\n",
    "        t_hash = ord(t[i]) + t_hash*BASE\n",
    "        \n",
    "    if t_hash == s_hash and t[-len(s):] == s:\n",
    "        return len(t)-len(s)\n",
    "    return -1\n",
    "find_substring('adefeeeds','eee')    "
   ]
  }
 ],
 "metadata": {
  "kernelspec": {
   "display_name": "Python 3",
   "language": "python",
   "name": "python3"
  },
  "language_info": {
   "codemirror_mode": {
    "name": "ipython",
    "version": 3
   },
   "file_extension": ".py",
   "mimetype": "text/x-python",
   "name": "python",
   "nbconvert_exporter": "python",
   "pygments_lexer": "ipython3",
   "version": "3.6.5"
  }
 },
 "nbformat": 4,
 "nbformat_minor": 2
}
