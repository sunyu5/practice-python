{
 "cells": [
  {
   "cell_type": "markdown",
   "metadata": {},
   "source": [
    "## String"
   ]
  },
  {
   "cell_type": "code",
   "execution_count": 3,
   "metadata": {},
   "outputs": [
    {
     "data": {
      "text/plain": [
       "True"
      ]
     },
     "execution_count": 3,
     "metadata": {},
     "output_type": "execute_result"
    }
   ],
   "source": [
    "def is_palindromic(s):\n",
    "    return all(s[i] == s[~i] for i in range(len(s)//2))\n",
    "s = '1221'\n",
    "is_palindromic(s)"
   ]
  },
  {
   "cell_type": "code",
   "execution_count": 13,
   "metadata": {
    "collapsed": true
   },
   "outputs": [
    {
     "name": "stdout",
     "output_type": "stream",
     "text": [
      "e\n",
      "15\n",
      "GreeksforGreekshello,world\n",
      "ee\n",
      "True\n",
      "True\n",
      "False\n",
      "['Euclid', 'Axiom 5', 'Parallel Lines']\n",
      "010101\n",
      "Gauss,Prince of Mathemeticians,1777-1855\n",
      "greeksforgreeks\n",
      "NameArchimedes,Rank3\n"
     ]
    }
   ],
   "source": [
    "s = 'GreeksforGreeks'\n",
    "print(s[3])\n",
    "print(len(s))\n",
    "t = 'hello,world'\n",
    "print(s + t)\n",
    "print(s[2:4])\n",
    "print(s.startswith('Greeks'))\n",
    "print(s.endswith('Greeks'))\n",
    "print(s.startswith('for'))\n",
    "print('Euclid,Axiom 5,Parallel Lines'.split(','))\n",
    "print(3*'01')\n",
    "print(','.join(('Gauss','Prince of Mathemeticians',\n",
    "               '1777-1855')))\n",
    "print(s.lower())\n",
    "print('Name{name},Rank{rank}'.format(name = 'Archimedes',rank = 3))"
   ]
  },
  {
   "cell_type": "code",
   "execution_count": 4,
   "metadata": {},
   "outputs": [
    {
     "name": "stdout",
     "output_type": "stream",
     "text": [
      "['4']\n",
      "['4', '3']\n",
      "['4', '3', '2']\n",
      "['4', '3', '2', '1']\n"
     ]
    },
    {
     "data": {
      "text/plain": [
       "'-1234'"
      ]
     },
     "execution_count": 4,
     "metadata": {},
     "output_type": "execute_result"
    }
   ],
   "source": [
    "# interconvert strings and integers\n",
    "import functools\n",
    "import string\n",
    "def int_to_string(x):\n",
    "    is_negative = False\n",
    "    if x < 0:\n",
    "        x, is_negative = -x, True\n",
    "    s = []\n",
    "    while True:\n",
    "        s.append(chr(ord('0') + x%10)) # chr():  For example, chr(97) returns the string 'a'. ord('a') returns the integer 97 \n",
    "        #print(s)\n",
    "        x//=10\n",
    "        if x == 0:\n",
    "            break\n",
    "    return ('-' if is_negative else '') + ''.join(reversed(s))\n",
    "\n",
    "def string_to_int(s):\n",
    "    return functools.reduce(\n",
    "        lambda running_sum, c: running_sum* 10 + string.digits.index(c),\n",
    "        s[s[0] == '-':], 0) * (-1 if s[0] == '-' else 1)\n",
    "\n",
    "string_to_int('-1234')\n",
    "\n",
    "# def string_to_int(s):\n",
    "\n",
    "#     return functools.reduce(\n",
    "#         lambda running_sum, c: running_sum * 10 + string.digits.index(c),\n",
    "#         s[s[0] == '-':], 0) * (-1 if s[0] == '-' else 1)\n",
    "\n",
    "# string_to_int('-1234')\n",
    "int_to_string(-1234)"
   ]
  },
  {
   "cell_type": "code",
   "execution_count": 31,
   "metadata": {},
   "outputs": [
    {
     "name": "stdout",
     "output_type": "stream",
     "text": [
      "False\n",
      "302\n",
      "18 E\n",
      "1 2\n",
      "0 1\n",
      "0 0\n"
     ]
    },
    {
     "data": {
      "text/plain": [
       "'12E'"
      ]
     },
     "execution_count": 31,
     "metadata": {},
     "output_type": "execute_result"
    }
   ],
   "source": [
    "# base conversion\n",
    "import string\n",
    "import functools\n",
    "def convert_base(num_as_string,b1,b2):\n",
    "    def construct_from_base(num_as_int,base):\n",
    "        print(num_as_int//base,string.hexdigits[num_as_int%base].upper() )\n",
    "        return ('' if num_as_int == 0 else \n",
    "               construct_from_base(num_as_int//base,base)+\n",
    "               string.hexdigits[num_as_int%base].upper())\n",
    "    is_negative= num_as_string[0] == '-'\n",
    "    print(is_negative)\n",
    "    num_as_int = functools.reduce(\n",
    "        lambda x,c: x*b1 + string.hexdigits.index(c.lower()),\n",
    "    num_as_string[is_negative:],0)\n",
    "    print(num_as_int)\n",
    "    #print(num_as_string[is_negative:])\n",
    "    return ('-'if is_negative else '') + ('0' if num_as_int == 0 else\n",
    "                                         construct_from_base(num_as_int,b2))\n",
    "convert_base('1A3',13,16)"
   ]
  },
  {
   "cell_type": "code",
   "execution_count": 36,
   "metadata": {},
   "outputs": [
    {
     "data": {
      "text/plain": [
       "'1B3'"
      ]
     },
     "execution_count": 36,
     "metadata": {},
     "output_type": "execute_result"
    }
   ],
   "source": [
    "import string\n",
    "import functools\n",
    "def base_conversion(strings,b1,b2):\n",
    "    def conversion_from(string_to_int,base):\n",
    "        return ('' if string_to_int == 0 else conversion_from(string_to_int//base,base) + \n",
    "                string.hexdigits[string_to_int%base].upper())\n",
    "    is_negative = strings[0] == '-'\n",
    "    string_to_int =  functools.reduce(\n",
    "        lambda running_sum,c: running_sum*b1 + string.hexdigits.index(c.lower()),\n",
    "        strings[is_negative:],0)\n",
    "    return ('-' if is_negative else '') + ('0' if string_to_int == 0 else conversion_from(string_to_int,b2))\n",
    "base_conversion('1E2',13,14)"
   ]
  },
  {
   "cell_type": "code",
   "execution_count": 13,
   "metadata": {},
   "outputs": [
    {
     "data": {
      "text/plain": [
       "28"
      ]
     },
     "execution_count": 13,
     "metadata": {},
     "output_type": "execute_result"
    }
   ],
   "source": [
    "# compute the spreadcheet column encoding\n",
    "def spreadcheet_encoding(col):\n",
    "    return functools.reduce(\n",
    "        lambda result, c: result*26 + ord(c) - ord('A') + 1, col, 0)\n",
    "    \n",
    "spreadcheet_encoding('AB')"
   ]
  },
  {
   "cell_type": "code",
   "execution_count": 4,
   "metadata": {},
   "outputs": [
    {
     "name": "stdout",
     "output_type": "stream",
     "text": [
      "16\n",
      "Q\n",
      "0\n",
      "QA\n"
     ]
    },
    {
     "data": {
      "text/plain": [
       "'AQ'"
      ]
     },
     "execution_count": 4,
     "metadata": {},
     "output_type": "execute_result"
    }
   ],
   "source": [
    "def num_char(num):\n",
    "    letters = ''\n",
    "    while num:\n",
    "        mod = (num - 1) % 26\n",
    "        print(mod)\n",
    "        letters += chr(mod + 65)\n",
    "        print(letters)\n",
    "        num = (num - 1) // 26\n",
    "    return ''.join(reversed(letters))\n",
    "num_char(43)"
   ]
  },
  {
   "cell_type": "code",
   "execution_count": 57,
   "metadata": {},
   "outputs": [
    {
     "name": "stdout",
     "output_type": "stream",
     "text": [
      "1\n",
      "['a', 'c', 1, 'c', 'b']\n"
     ]
    },
    {
     "data": {
      "text/plain": [
       "(3, ['d', 'd', 'c'])"
      ]
     },
     "execution_count": 57,
     "metadata": {},
     "output_type": "execute_result"
    }
   ],
   "source": [
    "# Replace and Remove for replace using forward iteration for remove using backward iteration\n",
    "def replace_and_remove(size,s):\n",
    "    write_size, a_count = 0,0\n",
    "    for i in range(size):\n",
    "        if s[i] != 'b':\n",
    "            s[write_size] = s[i]\n",
    "            write_size += 1\n",
    "        if s[i] == 'a':\n",
    "            a_count += 1\n",
    "    current_idx = write_size -1\n",
    "    write_size += a_count-1\n",
    "    #print(write_size)\n",
    "    print(a_count)\n",
    "    final_size = write_size  +1\n",
    "    \n",
    "    s[(current_idx+1):write_size] =[1]*(a_count)\n",
    "    print(s)\n",
    "    \n",
    "    while current_idx >= 0:\n",
    "        if s[current_idx] == 'a':\n",
    "            s[write_size-1:write_size+1] = 'dd'\n",
    "            write_size -= 2\n",
    "            #print(s)\n",
    "            \n",
    "        else:\n",
    "            s[write_size] = s[current_idx]\n",
    "            write_size -= 1\n",
    "        current_idx -= 1\n",
    "    return  final_size,s[:final_size]\n",
    "replace_and_remove(4,['a','b','c','b'])"
   ]
  },
  {
   "cell_type": "code",
   "execution_count": 40,
   "metadata": {},
   "outputs": [
    {
     "data": {
      "text/plain": [
       "[1, 2, 3, 'd', 'd']"
      ]
     },
     "execution_count": 40,
     "metadata": {},
     "output_type": "execute_result"
    }
   ],
   "source": [
    "s =[1,2,3]\n",
    "s[4:6] = 'dd'\n",
    "s"
   ]
  },
  {
   "cell_type": "code",
   "execution_count": 1,
   "metadata": {},
   "outputs": [
    {
     "data": {
      "text/plain": [
       "[1, 2, 3]"
      ]
     },
     "execution_count": 1,
     "metadata": {},
     "output_type": "execute_result"
    }
   ],
   "source": [
    "def insertion_sort(nums):\n",
    "    i = 1\n",
    "    while len(nums)-1 >= i:\n",
    "        j = i \n",
    "        while j >0 :\n",
    "            if nums[j] < nums[j-1]:\n",
    "                nums[j],nums[j-1] = nums[j-1],nums[j]\n",
    "                j-=1\n",
    "        i+=1\n",
    "    return nums\n",
    "insertion_sort([3,2,1])"
   ]
  },
  {
   "cell_type": "code",
   "execution_count": 5,
   "metadata": {},
   "outputs": [
    {
     "data": {
      "text/plain": [
       "True"
      ]
     },
     "execution_count": 5,
     "metadata": {},
     "output_type": "execute_result"
    }
   ],
   "source": [
    "# Test Palindromicity\n",
    "def test_palidromic(s):\n",
    "    i,j = 0, len(s)-1\n",
    "    while i < j:\n",
    "        while not s[i].isalnum() and i<j:\n",
    "            i += 1\n",
    "        while not s[j].isalnum() and i<j:\n",
    "            j -= 1\n",
    "        if s[i].lower() != s[j].lower():\n",
    "            return False\n",
    "        i,j = i +1, j-1\n",
    "    return True\n",
    "test_palidromic('Able was I, ere I saw Elba')"
   ]
  },
  {
   "cell_type": "code",
   "execution_count": 2,
   "metadata": {
    "collapsed": true
   },
   "outputs": [
    {
     "ename": "AttributeError",
     "evalue": "'str' object has no attribute 'reverse'",
     "output_type": "error",
     "traceback": [
      "\u001b[0;31m---------------------------------------------------------------------------\u001b[0m",
      "\u001b[0;31mAttributeError\u001b[0m                            Traceback (most recent call last)",
      "\u001b[0;32m<ipython-input-2-401b04553cd8>\u001b[0m in \u001b[0;36m<module>\u001b[0;34m()\u001b[0m\n\u001b[1;32m     16\u001b[0m         \u001b[0mstart\u001b[0m \u001b[0;34m=\u001b[0m \u001b[0mfinish\u001b[0m \u001b[0;34m+\u001b[0m \u001b[0;36m1\u001b[0m\u001b[0;34m\u001b[0m\u001b[0m\n\u001b[1;32m     17\u001b[0m     \u001b[0mreverse_range\u001b[0m\u001b[0;34m(\u001b[0m\u001b[0ms\u001b[0m\u001b[0;34m,\u001b[0m\u001b[0mstart\u001b[0m\u001b[0;34m,\u001b[0m\u001b[0mlen\u001b[0m\u001b[0;34m(\u001b[0m\u001b[0ms\u001b[0m\u001b[0;34m)\u001b[0m\u001b[0;34m-\u001b[0m\u001b[0;36m1\u001b[0m\u001b[0;34m)\u001b[0m\u001b[0;34m\u001b[0m\u001b[0m\n\u001b[0;32m---> 18\u001b[0;31m \u001b[0mreverse_words\u001b[0m\u001b[0;34m(\u001b[0m\u001b[0;34m'ram is costly'\u001b[0m\u001b[0;34m)\u001b[0m\u001b[0;34m\u001b[0m\u001b[0m\n\u001b[0m",
      "\u001b[0;32m<ipython-input-2-401b04553cd8>\u001b[0m in \u001b[0;36mreverse_words\u001b[0;34m(s)\u001b[0m\n\u001b[1;32m      2\u001b[0m \u001b[0;32mdef\u001b[0m \u001b[0mreverse_words\u001b[0m\u001b[0;34m(\u001b[0m\u001b[0ms\u001b[0m\u001b[0;34m)\u001b[0m\u001b[0;34m:\u001b[0m\u001b[0;34m\u001b[0m\u001b[0m\n\u001b[1;32m      3\u001b[0m     \u001b[0;31m#first reverse the whole string\u001b[0m\u001b[0;34m\u001b[0m\u001b[0;34m\u001b[0m\u001b[0m\n\u001b[0;32m----> 4\u001b[0;31m     \u001b[0ms\u001b[0m\u001b[0;34m.\u001b[0m\u001b[0mreverse\u001b[0m\u001b[0;34m(\u001b[0m\u001b[0;34m)\u001b[0m\u001b[0;34m\u001b[0m\u001b[0m\n\u001b[0m\u001b[1;32m      5\u001b[0m \u001b[0;34m\u001b[0m\u001b[0m\n\u001b[1;32m      6\u001b[0m     \u001b[0;32mdef\u001b[0m \u001b[0mreverse_range\u001b[0m\u001b[0;34m(\u001b[0m\u001b[0ms\u001b[0m\u001b[0;34m,\u001b[0m \u001b[0mstart\u001b[0m\u001b[0;34m,\u001b[0m\u001b[0mfinish\u001b[0m\u001b[0;34m)\u001b[0m\u001b[0;34m:\u001b[0m\u001b[0;34m\u001b[0m\u001b[0m\n",
      "\u001b[0;31mAttributeError\u001b[0m: 'str' object has no attribute 'reverse'"
     ]
    }
   ],
   "source": [
    "# reverse all the words in a sentence\n",
    "def reverse_words(s):\n",
    "    #first reverse the whole string\n",
    "    s.reverse()\n",
    "    \n",
    "    def reverse_range(s, start,finish):\n",
    "        while start < finish:\n",
    "            s[start],s[finish] = s[finish],s[start]\n",
    "            start,finish = start+1,finish-1\n",
    "    start= 0\n",
    "    while True:\n",
    "        finish = s.find(b' ', start)\n",
    "        if finish < 0:\n",
    "            break\n",
    "        reverse_range(s,start,finish-1)\n",
    "        start = finish + 1\n",
    "    reverse_range(s,start,len(s)-1)\n",
    "reverse_words('ram is costly')"
   ]
  },
  {
   "cell_type": "code",
   "execution_count": 11,
   "metadata": {},
   "outputs": [
    {
     "data": {
      "text/plain": [
       "'world hello'"
      ]
     },
     "execution_count": 11,
     "metadata": {},
     "output_type": "execute_result"
    }
   ],
   "source": [
    "# reverse words pythonic\n",
    "def reverse_words_pythonic(s):\n",
    "    return ' '.join(reversed(s.strip().split(' ')))\n",
    "reverse_words_pythonic(' hello world ')"
   ]
  },
  {
   "cell_type": "code",
   "execution_count": 15,
   "metadata": {},
   "outputs": [
    {
     "data": {
      "text/plain": [
       "'world hello'"
      ]
     },
     "execution_count": 15,
     "metadata": {},
     "output_type": "execute_result"
    }
   ],
   "source": [
    "s = 'hello world'\n",
    "' '.join(reversed(s.strip().split(' ')))"
   ]
  },
  {
   "cell_type": "code",
   "execution_count": 63,
   "metadata": {},
   "outputs": [
    {
     "name": "stdout",
     "output_type": "stream",
     "text": [
      "True\n"
     ]
    },
    {
     "data": {
      "text/plain": [
       "['TJPA',\n",
       " 'TJPB',\n",
       " 'TJPC',\n",
       " 'TJQA',\n",
       " 'TJQB',\n",
       " 'TJQC',\n",
       " 'TJRA',\n",
       " 'TJRB',\n",
       " 'TJRC',\n",
       " 'TJSA',\n",
       " 'TJSB',\n",
       " 'TJSC',\n",
       " 'TKPA',\n",
       " 'TKPB',\n",
       " 'TKPC',\n",
       " 'TKQA',\n",
       " 'TKQB',\n",
       " 'TKQC',\n",
       " 'TKRA',\n",
       " 'TKRB',\n",
       " 'TKRC',\n",
       " 'TKSA',\n",
       " 'TKSB',\n",
       " 'TKSC',\n",
       " 'TLPA',\n",
       " 'TLPB',\n",
       " 'TLPC',\n",
       " 'TLQA',\n",
       " 'TLQB',\n",
       " 'TLQC',\n",
       " 'TLRA',\n",
       " 'TLRB',\n",
       " 'TLRC',\n",
       " 'TLSA',\n",
       " 'TLSB',\n",
       " 'TLSC',\n",
       " 'UJPA',\n",
       " 'UJPB',\n",
       " 'UJPC',\n",
       " 'UJQA',\n",
       " 'UJQB',\n",
       " 'UJQC',\n",
       " 'UJRA',\n",
       " 'UJRB',\n",
       " 'UJRC',\n",
       " 'UJSA',\n",
       " 'UJSB',\n",
       " 'UJSC',\n",
       " 'UKPA',\n",
       " 'UKPB',\n",
       " 'UKPC',\n",
       " 'UKQA',\n",
       " 'UKQB',\n",
       " 'UKQC',\n",
       " 'UKRA',\n",
       " 'UKRB',\n",
       " 'UKRC',\n",
       " 'UKSA',\n",
       " 'UKSB',\n",
       " 'UKSC',\n",
       " 'ULPA',\n",
       " 'ULPB',\n",
       " 'ULPC',\n",
       " 'ULQA',\n",
       " 'ULQB',\n",
       " 'ULQC',\n",
       " 'ULRA',\n",
       " 'ULRB',\n",
       " 'ULRC',\n",
       " 'ULSA',\n",
       " 'ULSB',\n",
       " 'ULSC',\n",
       " 'VJPA',\n",
       " 'VJPB',\n",
       " 'VJPC',\n",
       " 'VJQA',\n",
       " 'VJQB',\n",
       " 'VJQC',\n",
       " 'VJRA',\n",
       " 'VJRB',\n",
       " 'VJRC',\n",
       " 'VJSA',\n",
       " 'VJSB',\n",
       " 'VJSC',\n",
       " 'VKPA',\n",
       " 'VKPB',\n",
       " 'VKPC',\n",
       " 'VKQA',\n",
       " 'VKQB',\n",
       " 'VKQC',\n",
       " 'VKRA',\n",
       " 'VKRB',\n",
       " 'VKRC',\n",
       " 'VKSA',\n",
       " 'VKSB',\n",
       " 'VKSC',\n",
       " 'VLPA',\n",
       " 'VLPB',\n",
       " 'VLPC',\n",
       " 'VLQA',\n",
       " 'VLQB',\n",
       " 'VLQC',\n",
       " 'VLRA',\n",
       " 'VLRB',\n",
       " 'VLRC',\n",
       " 'VLSA',\n",
       " 'VLSB',\n",
       " 'VLSC']"
      ]
     },
     "execution_count": 63,
     "metadata": {},
     "output_type": "execute_result"
    }
   ],
   "source": [
    "# compute all mnemonics for a phone number\n",
    "mapping = ('0','1','ABC','DEF','GHI','JKL','MNO','PQRS','TUV','WXYZ')\n",
    "def mnemonics(nums):\n",
    "    def mnemonics_helper(digit):\n",
    "        if digit == len(nums):\n",
    "            res.append(''.join(partial_mnemonics))\n",
    "        else:\n",
    "            for c in mapping[int(nums[digit])]:\n",
    "                partial_mnemonics[digit] = c\n",
    "                mnemonics_helper(digit+1)\n",
    "    res = []\n",
    "    partial_mnemonics = [0]*len(nums)\n",
    "    mnemonics_helper(0)\n",
    "    #print(len(res) == len(set(res)))\n",
    "    return res\n",
    "mnemonics('8572')"
   ]
  }
 ],
 "metadata": {
  "kernelspec": {
   "display_name": "Python 3",
   "language": "python",
   "name": "python3"
  }
 },
 "nbformat": 4,
 "nbformat_minor": 2
}
